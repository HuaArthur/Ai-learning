{
 "cells": [
  {
   "cell_type": "markdown",
   "id": "332b9149-1e64-4afa-8db0-030c3a6418d8",
   "metadata": {},
   "source": [
    "# os"
   ]
  },
  {
   "cell_type": "code",
   "execution_count": 9,
   "id": "c65813b7-2adf-426e-831b-d64e4cbd0a9c",
   "metadata": {},
   "outputs": [
    {
     "data": {
      "text/plain": [
       "'C:\\\\Users\\\\20608\\\\Desktop\\\\codes&data'"
      ]
     },
     "execution_count": 9,
     "metadata": {},
     "output_type": "execute_result"
    }
   ],
   "source": [
    "import os\n",
    "# print(dir(os))\n",
    "os.getcwd()\n"
   ]
  },
  {
   "cell_type": "markdown",
   "id": "324713e8-f38e-4eb6-8ca5-115976a1c9a1",
   "metadata": {},
   "source": [
    "### change the directory"
   ]
  },
  {
   "cell_type": "code",
   "execution_count": 10,
   "id": "1552c9d5-b1c2-40b5-8699-6560de980464",
   "metadata": {},
   "outputs": [
    {
     "data": {
      "text/plain": [
       "'C:\\\\Users\\\\20608\\\\Desktop'"
      ]
     },
     "execution_count": 10,
     "metadata": {},
     "output_type": "execute_result"
    }
   ],
   "source": [
    "os.chdir('/Users/20608/Desktop')\n",
    "os.getcwd()"
   ]
  },
  {
   "cell_type": "code",
   "execution_count": 11,
   "id": "cb619948-3683-4987-bb35-540819b3fe15",
   "metadata": {},
   "outputs": [
    {
     "data": {
      "text/plain": [
       "['25 华铭勋',\n",
       " '320504200704093035.JPG',\n",
       " 'Ai_learning.txt',\n",
       " 'Bluebook.lnk',\n",
       " 'Clash for Windows.exe - 快捷方式.lnk',\n",
       " 'codes&data',\n",
       " 'desktop.ini',\n",
       " 'gal',\n",
       " 'game of throne',\n",
       " 'gamebox.exe - 快捷方式.lnk',\n",
       " 'GitHub Desktop.lnk',\n",
       " 'Grammarly.lnk',\n",
       " 'Internet Download Manager.lnk',\n",
       " 'ip和网关.txt',\n",
       " 'ksp',\n",
       " 'MassEffectLauncher.exe - 快捷方式.lnk',\n",
       " 'Microsoft Edge.lnk',\n",
       " 'NOAI',\n",
       " 'Rockstar Games Launcher.lnk',\n",
       " 'v2rayN.exe - 快捷方式.lnk',\n",
       " 'WeMod.lnk',\n",
       " 'yuzu - 快捷方式.lnk',\n",
       " '~$you material.xlsx',\n",
       " '【游戏菜单大全】',\n",
       " '安装软件指南最新密码11.28.xlsx',\n",
       " '游戏下载.xlsx',\n",
       " '百度网盘.lnk',\n",
       " '综合评价.rar',\n",
       " '腾讯QQ.lnk',\n",
       " '雷神加速器.lnk']"
      ]
     },
     "execution_count": 11,
     "metadata": {},
     "output_type": "execute_result"
    }
   ],
   "source": [
    "os.listdir()"
   ]
  },
  {
   "cell_type": "markdown",
   "id": "4f5c2a64-2461-4b54-b5ed-26357db59ee1",
   "metadata": {},
   "source": [
    "### make or remove directory"
   ]
  },
  {
   "cell_type": "code",
   "execution_count": 13,
   "id": "87fc8a88-49da-4d9f-a88b-0637dc942e7e",
   "metadata": {},
   "outputs": [],
   "source": [
    "os.chdir('/Users/20608/Desktop/codes&data')\n",
    "# os.mkdirs('OS-demo-2/Sub-Dir-1')\n",
    "os.makedirs('OS-Demo-2/Sub-Dir-1') #automatically create subdirectory\n",
    "os.listdir()"
   ]
  },
  {
   "cell_type": "code",
   "execution_count": 14,
   "id": "d4ab9580-4067-436f-a91c-a31e7480a13b",
   "metadata": {},
   "outputs": [],
   "source": [
    "# os.rmdir('Os-Demo-2')\n",
    "os.removedirs('Os-Demo-2')\n",
    "os.listdir()"
   ]
  },
  {
   "cell_type": "markdown",
   "id": "cfb2dde0-c7c3-452a-b9bb-684bd063c66e",
   "metadata": {},
   "source": [
    "### rename directory"
   ]
  },
  {
   "cell_type": "code",
   "execution_count": 15,
   "id": "6195c4b4-d4f2-446d-be29-ed7090ff1104",
   "metadata": {},
   "outputs": [],
   "source": [
    "os.rename('implementation','linear_regression')\n",
    "os.listdir()"
   ]
  },
  {
   "cell_type": "markdown",
   "id": "eae783fd-3b4e-42d6-8811-2ee3e0c0b196",
   "metadata": {},
   "source": [
    "### os.stat"
   ]
  },
  {
   "cell_type": "code",
   "execution_count": 17,
   "id": "9390c6c5-fa65-45ce-aa6b-1ddc11b12214",
   "metadata": {},
   "outputs": [
    {
     "data": {
      "text/plain": [
       "os.stat_result(st_mode=33206, st_ino=5348024557639827, st_dev=2416552057, st_nlink=1, st_uid=0, st_gid=0, st_size=11669, st_atime=1712758861, st_mtime=1712758861, st_ctime=1712671801)"
      ]
     },
     "execution_count": 17,
     "metadata": {},
     "output_type": "execute_result"
    }
   ],
   "source": [
    "os.chdir('/Users/20608/Desktop/codes&data/os')\n",
    "os.stat('os.ipynb')\n"
   ]
  },
  {
   "cell_type": "code",
   "execution_count": 22,
   "id": "3830855d-87b2-46e1-8a11-26c9025e8839",
   "metadata": {},
   "outputs": [
    {
     "data": {
      "text/plain": [
       "datetime.datetime(2024, 4, 10, 22, 21, 1, 490189)"
      ]
     },
     "execution_count": 22,
     "metadata": {},
     "output_type": "execute_result"
    }
   ],
   "source": [
    "# from datetime import datetime transfer st_mtime into human readable time\n",
    "from datetime import datetime\n",
    "os.stat('os.ipynb').st_size\n",
    "mod_time = os.stat('os.ipynb').st_mtime\n",
    "datetime.fromtimestamp(mod_time)\n"
   ]
  },
  {
   "cell_type": "code",
   "execution_count": 23,
   "id": "1abe7d8e-5eb0-4db1-b025-aa4dab952b23",
   "metadata": {},
   "outputs": [],
   "source": [
    "# for dirpath, dirnames, filenames in os.walk(os.getcwd()):\n",
    "#     print('Current path:', dirpath)\n",
    "#     print('Directories:', dirnames)\n",
    "#     print('File:', filenames)\n",
    "# go down to each subdirectories and print the filenames\n",
    "# THIS IS USEFUL"
   ]
  },
  {
   "cell_type": "code",
   "execution_count": 24,
   "id": "2724c7f3-0683-4e91-9696-ce437c660839",
   "metadata": {},
   "outputs": [
    {
     "name": "stdout",
     "output_type": "stream",
     "text": [
      "None\n"
     ]
    }
   ],
   "source": [
    "os.environ['CUDA_PATH']\n",
    "# os.environ['False input']   # an error occur because there is no environment variable named this\n",
    "print(os.environ.get('False input')) # return none but didn't report error"
   ]
  },
  {
   "cell_type": "markdown",
   "id": "916e7410-bd4f-4788-89a0-1f422f91c6b8",
   "metadata": {},
   "source": [
    "### os.path"
   ]
  },
  {
   "cell_type": "code",
   "execution_count": 25,
   "id": "916f7801-08dc-4fb8-971f-8eaa074c8c5b",
   "metadata": {},
   "outputs": [
    {
     "name": "stdout",
     "output_type": "stream",
     "text": [
      "C:\\Program Files\\NVIDIA GPU Computing Toolkit\\CUDA\\v11.8\\test.txt\n"
     ]
    }
   ],
   "source": [
    "file_path = os.path.join(os.environ.get('CUDA_PATH'), 'test.txt')\n",
    "print(file_path)"
   ]
  },
  {
   "cell_type": "code",
   "execution_count": 26,
   "id": "2ca1cc43-6df3-4b1e-b2b2-0d9bf6bf8d0e",
   "metadata": {},
   "outputs": [
    {
     "data": {
      "text/plain": [
       "'text.txt'"
      ]
     },
     "execution_count": 26,
     "metadata": {},
     "output_type": "execute_result"
    }
   ],
   "source": [
    " os.path.basename('/tem/text.txt') # doesn't have to be a real file"
   ]
  },
  {
   "cell_type": "code",
   "execution_count": 27,
   "id": "acff5fd8-89c6-49d6-8284-a2052fd99509",
   "metadata": {},
   "outputs": [
    {
     "name": "stdout",
     "output_type": "stream",
     "text": [
      "/tem\n"
     ]
    },
    {
     "data": {
      "text/plain": [
       "('/temt', 'test.txt')"
      ]
     },
     "execution_count": 27,
     "metadata": {},
     "output_type": "execute_result"
    }
   ],
   "source": [
    "print(os.path.dirname('/tem/test.txt')) # print out directory\n",
    "os.path.split('/temt/test.txt') # directory first and filename second"
   ]
  },
  {
   "cell_type": "code",
   "execution_count": 28,
   "id": "84c361fe-b366-48a1-bc1b-8a8e2ae5728e",
   "metadata": {},
   "outputs": [
    {
     "name": "stdout",
     "output_type": "stream",
     "text": [
      "False\n",
      "False\n",
      "False\n",
      "('temp/test', '.txt')\n"
     ]
    }
   ],
   "source": [
    "print(os.path.exists('/temp/test.txt'))\n",
    "print(os.path.isdir('/temp/test.txt'))\n",
    "print(os.path.isfile('/temp/test.txt'))\n",
    "print(os.path.splitext('temp/test.txt')) # split path name and extension"
   ]
  },
  {
   "cell_type": "code",
   "execution_count": 29,
   "id": "2a44b15a-8e8d-4f21-bbfa-5acf04541073",
   "metadata": {},
   "outputs": [
    {
     "data": {
      "text/plain": [
       "['_LCMAP_LOWERCASE',\n",
       " '_LCMapStringEx',\n",
       " '_LOCALE_NAME_INVARIANT',\n",
       " '__all__',\n",
       " '__builtins__',\n",
       " '__doc__',\n",
       " '__file__',\n",
       " '__loader__',\n",
       " '__name__',\n",
       " '__package__',\n",
       " '__spec__',\n",
       " '_abspath_fallback',\n",
       " '_get_bothseps',\n",
       " '_getfinalpathname',\n",
       " '_getfinalpathname_nonstrict',\n",
       " '_getfullpathname',\n",
       " '_getvolumepathname',\n",
       " '_nt_readlink',\n",
       " '_path_normpath',\n",
       " '_readlink_deep',\n",
       " 'abspath',\n",
       " 'altsep',\n",
       " 'basename',\n",
       " 'commonpath',\n",
       " 'commonprefix',\n",
       " 'curdir',\n",
       " 'defpath',\n",
       " 'devnull',\n",
       " 'dirname',\n",
       " 'exists',\n",
       " 'expanduser',\n",
       " 'expandvars',\n",
       " 'extsep',\n",
       " 'genericpath',\n",
       " 'getatime',\n",
       " 'getctime',\n",
       " 'getmtime',\n",
       " 'getsize',\n",
       " 'isabs',\n",
       " 'isdir',\n",
       " 'isfile',\n",
       " 'islink',\n",
       " 'ismount',\n",
       " 'join',\n",
       " 'lexists',\n",
       " 'normcase',\n",
       " 'normpath',\n",
       " 'os',\n",
       " 'pardir',\n",
       " 'pathsep',\n",
       " 'realpath',\n",
       " 'relpath',\n",
       " 'samefile',\n",
       " 'sameopenfile',\n",
       " 'samestat',\n",
       " 'sep',\n",
       " 'split',\n",
       " 'splitdrive',\n",
       " 'splitext',\n",
       " 'stat',\n",
       " 'supports_unicode_filenames',\n",
       " 'sys']"
      ]
     },
     "execution_count": 29,
     "metadata": {},
     "output_type": "execute_result"
    }
   ],
   "source": [
    "dir(os.path)"
   ]
  },
  {
   "cell_type": "markdown",
   "id": "0bcecdc0-9175-401a-b4ab-f339281321f1",
   "metadata": {},
   "source": [
    "# reading and writing to files"
   ]
  },
  {
   "cell_type": "code",
   "execution_count": 34,
   "id": "1396fe26-681d-46ce-926c-2538a8f5f5d9",
   "metadata": {},
   "outputs": [
    {
     "name": "stdout",
     "output_type": "stream",
     "text": [
      "text.txt\n",
      "r\n"
     ]
    },
    {
     "data": {
      "text/plain": [
       "<function TextIOWrapper.close()>"
      ]
     },
     "execution_count": 34,
     "metadata": {},
     "output_type": "execute_result"
    }
   ],
   "source": [
    "# not recommended \n",
    "f = open('text.txt', 'r')\n",
    "print(f.name)\n",
    "print(f.mode)\n",
    "f.close"
   ]
  },
  {
   "cell_type": "markdown",
   "id": "407617d0-7c7e-4491-86b6-2597e6f4a1a0",
   "metadata": {},
   "source": [
    "### 'r'"
   ]
  },
  {
   "cell_type": "code",
   "execution_count": 47,
   "id": "9cb7fafe-e7f1-4c56-b69e-334705bb8199",
   "metadata": {},
   "outputs": [
    {
     "name": "stdout",
     "output_type": "stream",
     "text": [
      "1) apple\n",
      "2) pear\n",
      "<built-in method close of _io.TextIOWrapper object at 0x0000017E7F8BF1D0>\n"
     ]
    }
   ],
   "source": [
    "# Using a context manager is better\n",
    "# automatically close the file \n",
    "with open('text.txt', 'r') as f: # with ___ as <variable name> \n",
    "    # print(f.read())\n",
    "    # print(f.readlines())\n",
    "    print(f.readline(), end = '')\n",
    "    print(f.readline(), end = '')\n",
    "    pass\n",
    "print(f.close)\n",
    "# f.read() an error occur because the file has been closed\n"
   ]
  },
  {
   "cell_type": "code",
   "execution_count": 48,
   "id": "edf36dd2-b93f-447f-9d3b-609be933b5b1",
   "metadata": {},
   "outputs": [
    {
     "name": "stdout",
     "output_type": "stream",
     "text": [
      "1) apple\n",
      "2) pear\n",
      "3) strawberry\n",
      "4) watermelon\n",
      "5) peach"
     ]
    }
   ],
   "source": [
    "with open('text.txt', 'r') as f:\n",
    "    for line in f:\n",
    "        print(line, end = '')"
   ]
  },
  {
   "cell_type": "code",
   "execution_count": 49,
   "id": "2d2e8835-817c-46d2-971a-36a3c6f9dc5b",
   "metadata": {},
   "outputs": [
    {
     "name": "stdout",
     "output_type": "stream",
     "text": [
      "1) apple\n",
      "2) pear\n",
      "3) strawberry\n",
      "4) watermelon\n",
      "5) peach\n"
     ]
    }
   ],
   "source": [
    "with open('text.txt', 'r') as f:\n",
    "    print(f.read())"
   ]
  },
  {
   "cell_type": "code",
   "execution_count": 55,
   "id": "2f419f4c-6851-480c-8cd8-c640d6a017ea",
   "metadata": {},
   "outputs": [
    {
     "name": "stdout",
     "output_type": "stream",
     "text": [
      "1) apple\n",
      "2) pea\n"
     ]
    }
   ],
   "source": [
    "with open('text.txt', 'r') as f:\n",
    "    print(f.read(15)) # print the first 15 characters"
   ]
  },
  {
   "cell_type": "code",
   "execution_count": 61,
   "id": "833657b5-1c08-4d36-828c-d0fc52be2402",
   "metadata": {},
   "outputs": [
    {
     "name": "stdout",
     "output_type": "stream",
     "text": [
      "1) apple\n",
      "2*) pear\n",
      "3) *strawberry*\n",
      "4) waterm*elon\n",
      "5) pe*ach*"
     ]
    }
   ],
   "source": [
    "# read size_to_read number of characters at a time\n",
    "with open('text.txt', 'r') as f:\n",
    "    size_to_read = 10\n",
    "    f_contents = f.read(size_to_read)\n",
    "    while len(f_contents) > 0:\n",
    "        print(f_contents, end = '*')\n",
    "        f_contents = f.read(size_to_read)"
   ]
  },
  {
   "cell_type": "code",
   "execution_count": 62,
   "id": "a15dd994-da11-4c8c-8cc7-360070b8df92",
   "metadata": {},
   "outputs": [
    {
     "name": "stdout",
     "output_type": "stream",
     "text": [
      "11\n"
     ]
    }
   ],
   "source": [
    "with open('text.txt', 'r') as f:\n",
    "    size_to_read = 10\n",
    "    f_contents = f.read(size_to_read)\n",
    "    print(f.tell()) # current position"
   ]
  },
  {
   "cell_type": "code",
   "execution_count": 78,
   "id": "391ef236-3cef-4437-89b6-c0a1b0b3d439",
   "metadata": {},
   "outputs": [
    {
     "name": "stdout",
     "output_type": "stream",
     "text": [
      "1) apple\n",
      "21) apple\n",
      "2\n"
     ]
    }
   ],
   "source": [
    "with open('text.txt', 'r') as f:\n",
    "    size_to_read = 10\n",
    "    f_contents = f.read(size_to_read)\n",
    "    print(f_contents, end = '')\n",
    "    f.seek(0) # change the current position to 0 do that it starts to read from the first character again\n",
    "    f_contents = f.read(size_to_read)\n",
    "    print(f_contents)"
   ]
  },
  {
   "cell_type": "markdown",
   "id": "8f2f4d43-7a27-4c83-8625-c17bf8730893",
   "metadata": {},
   "source": [
    "'w'"
   ]
  },
  {
   "cell_type": "code",
   "execution_count": 77,
   "id": "cb123f0a-c813-4e99-84ec-7e2a6ad41924",
   "metadata": {},
   "outputs": [],
   "source": [
    "with open('test2.txt', 'w') as f: # automatically create a new file\n",
    "    f.write('test')\n",
    "    f.seek(0) # change the writing position to the first\n",
    "    f.write('test') #  --> test\n",
    "    f.seek(0)\n",
    "    f.write('R') # -->Rest"
   ]
  },
  {
   "cell_type": "code",
   "execution_count": 76,
   "id": "461399dd-06cf-4e93-a604-633cce769f65",
   "metadata": {},
   "outputs": [],
   "source": [
    "# copy one file to another\n",
    "with open('text.txt', 'r' ) as rf:\n",
    "    with open('test_copy.txt', 'w') as wf:\n",
    "        for line in rf:\n",
    "            wf.write(line)"
   ]
  },
  {
   "cell_type": "markdown",
   "id": "b1d8958e-1c39-45dc-a6f1-a629b4656204",
   "metadata": {},
   "source": [
    "# copy picture files"
   ]
  },
  {
   "cell_type": "code",
   "execution_count": 80,
   "id": "0645b930-c9f1-4739-8c95-dd9e867d49d4",
   "metadata": {},
   "outputs": [],
   "source": [
    "with open('starship.jpg', 'r' ) as rf:\n",
    "    with open('starship.jpg', 'w') as wf:\n",
    "        for line in rf:\n",
    "            wf.write(line)\n",
    "# this doesn't work"
   ]
  },
  {
   "cell_type": "code",
   "execution_count": 81,
   "id": "3a386348-226d-4c80-b11e-e8df0c8c8f7b",
   "metadata": {},
   "outputs": [],
   "source": [
    "# add a b\n",
    "with open('starship.jpg', 'rb' ) as rf:\n",
    "    with open('starship_copy.jpg', 'wb') as wf:\n",
    "        for line in rf:\n",
    "            wf.write(line)"
   ]
  },
  {
   "cell_type": "code",
   "execution_count": 84,
   "id": "3f93408b-c8bc-47be-a267-47faa6ef514a",
   "metadata": {},
   "outputs": [],
   "source": [
    "with open('starship.jpg', 'rb' ) as rf:\n",
    "    with open('starship_copy.jpg', 'wb') as wf:\n",
    "        chunk_size = 4096\n",
    "        rf_chunk = rf.read(chunk_size)\n",
    "        while len(rf_chunk) > 0 :\n",
    "            wf.write(rf_chunk)\n",
    "            rf_chunk = rf.read(chunk_size)"
   ]
  },
  {
   "cell_type": "code",
   "execution_count": null,
   "id": "c2cbcd0c-3c36-4165-980f-c82d4016d4b3",
   "metadata": {},
   "outputs": [],
   "source": []
  }
 ],
 "metadata": {
  "kernelspec": {
   "display_name": "Python 3 (ipykernel)",
   "language": "python",
   "name": "python3"
  },
  "language_info": {
   "codemirror_mode": {
    "name": "ipython",
    "version": 3
   },
   "file_extension": ".py",
   "mimetype": "text/x-python",
   "name": "python",
   "nbconvert_exporter": "python",
   "pygments_lexer": "ipython3",
   "version": "3.11.8"
  }
 },
 "nbformat": 4,
 "nbformat_minor": 5
}
