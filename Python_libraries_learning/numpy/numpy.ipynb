{
 "cells": [
  {
   "cell_type": "code",
   "execution_count": 1,
   "id": "273c7264-6899-4ead-8ff6-577ddce94d87",
   "metadata": {},
   "outputs": [],
   "source": [
    "import numpy as np"
   ]
  },
  {
   "cell_type": "code",
   "execution_count": 2,
   "id": "6b217183-c42b-4de5-954d-2716c4181c58",
   "metadata": {},
   "outputs": [
    {
     "data": {
      "text/plain": [
       "array([1, 2, 3])"
      ]
     },
     "execution_count": 2,
     "metadata": {},
     "output_type": "execute_result"
    }
   ],
   "source": [
    "a=np.array([1,2,3])\n",
    "a"
   ]
  },
  {
   "cell_type": "code",
   "execution_count": 3,
   "id": "b1707b52-acc7-47c5-9f78-9aa2492f5864",
   "metadata": {},
   "outputs": [],
   "source": [
    "b=np.array([[1.0,2.0,3.0],[3.0,4.0,5.0]])"
   ]
  },
  {
   "cell_type": "code",
   "execution_count": 4,
   "id": "8a4904cd-82d4-462d-9e85-57d32b838a98",
   "metadata": {},
   "outputs": [
    {
     "data": {
      "text/plain": [
       "1"
      ]
     },
     "execution_count": 4,
     "metadata": {},
     "output_type": "execute_result"
    }
   ],
   "source": [
    "a.ndim"
   ]
  },
  {
   "cell_type": "code",
   "execution_count": 5,
   "id": "86d9e08d-8609-4899-9478-096031a63e7d",
   "metadata": {},
   "outputs": [
    {
     "data": {
      "text/plain": [
       "(2, 3)"
      ]
     },
     "execution_count": 5,
     "metadata": {},
     "output_type": "execute_result"
    }
   ],
   "source": [
    "b.shape"
   ]
  },
  {
   "cell_type": "code",
   "execution_count": 6,
   "id": "ba5f7f73-e0e3-453d-9de4-a629fd9e06bd",
   "metadata": {},
   "outputs": [
    {
     "data": {
      "text/plain": [
       "dtype('int32')"
      ]
     },
     "execution_count": 6,
     "metadata": {},
     "output_type": "execute_result"
    }
   ],
   "source": [
    "b.dtype\n",
    "a.dtype"
   ]
  },
  {
   "cell_type": "code",
   "execution_count": 7,
   "id": "2df14c0d-3127-46c7-889a-f2f826898254",
   "metadata": {},
   "outputs": [
    {
     "data": {
      "text/plain": [
       "dtype('int16')"
      ]
     },
     "execution_count": 7,
     "metadata": {},
     "output_type": "execute_result"
    }
   ],
   "source": [
    "b.dtype='int16'\n",
    "b.dtype"
   ]
  },
  {
   "cell_type": "code",
   "execution_count": 8,
   "id": "4ef667cf-fa00-415c-af81-d2e4e1f931e8",
   "metadata": {},
   "outputs": [
    {
     "data": {
      "text/plain": [
       "4"
      ]
     },
     "execution_count": 8,
     "metadata": {},
     "output_type": "execute_result"
    }
   ],
   "source": [
    "a.itemsize"
   ]
  },
  {
   "cell_type": "code",
   "execution_count": 9,
   "id": "5871d645-7829-4243-aeb7-d7916095a9af",
   "metadata": {},
   "outputs": [
    {
     "data": {
      "text/plain": [
       "12"
      ]
     },
     "execution_count": 9,
     "metadata": {},
     "output_type": "execute_result"
    }
   ],
   "source": [
    "a.size\n",
    "b.size\n",
    "a.nbytes"
   ]
  },
  {
   "cell_type": "code",
   "execution_count": 10,
   "id": "11b80483-7dce-4182-bcfc-b42cad58f7a7",
   "metadata": {
    "scrolled": true
   },
   "outputs": [],
   "source": [
    "a=np.array([[1,2,3,4,5,6,7],[8,9,10,11,12,13,14]])"
   ]
  },
  {
   "cell_type": "code",
   "execution_count": 11,
   "id": "e64bbc92-02c7-481f-aa96-46ec6efb7548",
   "metadata": {},
   "outputs": [
    {
     "data": {
      "text/plain": [
       "13"
      ]
     },
     "execution_count": 11,
     "metadata": {},
     "output_type": "execute_result"
    }
   ],
   "source": [
    "a[1,5]"
   ]
  },
  {
   "cell_type": "code",
   "execution_count": 12,
   "id": "d917a79c-778b-42ed-9a57-2e533504470c",
   "metadata": {},
   "outputs": [
    {
     "data": {
      "text/plain": [
       "13"
      ]
     },
     "execution_count": 12,
     "metadata": {},
     "output_type": "execute_result"
    }
   ],
   "source": [
    "a[1,-2]"
   ]
  },
  {
   "cell_type": "code",
   "execution_count": 13,
   "id": "40996c53-3dba-44f2-a58d-6d6adce90fb6",
   "metadata": {},
   "outputs": [
    {
     "data": {
      "text/plain": [
       "array([1, 2, 3, 4, 5, 6, 7])"
      ]
     },
     "execution_count": 13,
     "metadata": {},
     "output_type": "execute_result"
    }
   ],
   "source": [
    "#get a specific row\n",
    "a[0,:]"
   ]
  },
  {
   "cell_type": "code",
   "execution_count": 14,
   "id": "beb6a8f6-6641-4b69-9ac6-83ca5d2c7ab6",
   "metadata": {},
   "outputs": [
    {
     "data": {
      "text/plain": [
       "array([ 3, 10])"
      ]
     },
     "execution_count": 14,
     "metadata": {},
     "output_type": "execute_result"
    }
   ],
   "source": [
    "#get a specific column\n",
    "a[:,2]"
   ]
  },
  {
   "cell_type": "code",
   "execution_count": 15,
   "id": "3baec028-1b36-4dbf-af3f-c62c300910c3",
   "metadata": {},
   "outputs": [
    {
     "data": {
      "text/plain": [
       "array([2, 4, 6])"
      ]
     },
     "execution_count": 15,
     "metadata": {},
     "output_type": "execute_result"
    }
   ],
   "source": [
    "#getting a little more fancy [startindex:endindex:stepsize]\n",
    "a[0,1:6:2]"
   ]
  },
  {
   "cell_type": "code",
   "execution_count": 16,
   "id": "9529b131-53be-4661-a6e9-40c9c673d7e0",
   "metadata": {},
   "outputs": [
    {
     "data": {
      "text/plain": [
       "array([[ 1,  2,  1,  4,  5,  6,  7],\n",
       "       [ 8,  9,  2, 11, 12, 13, 14]])"
      ]
     },
     "execution_count": 16,
     "metadata": {},
     "output_type": "execute_result"
    }
   ],
   "source": [
    "a[:,2]=5\n",
    "a[:,2]=[1,2]\n",
    "a"
   ]
  },
  {
   "cell_type": "code",
   "execution_count": 17,
   "id": "149ed3f4-7245-4e49-b1c9-04b654f72124",
   "metadata": {},
   "outputs": [
    {
     "data": {
      "text/plain": [
       "array([[[1, 2],\n",
       "        [3, 4]],\n",
       "\n",
       "       [[5, 6],\n",
       "        [7, 8]]])"
      ]
     },
     "execution_count": 17,
     "metadata": {},
     "output_type": "execute_result"
    }
   ],
   "source": [
    "b=np.array([[[1,2],[3,4]],[[5,6],[7,8]]])\n",
    "b"
   ]
  },
  {
   "cell_type": "code",
   "execution_count": 18,
   "id": "c31085b7-cb61-4bb6-95dc-e2eb2b974c27",
   "metadata": {},
   "outputs": [
    {
     "data": {
      "text/plain": [
       "3"
      ]
     },
     "execution_count": 18,
     "metadata": {},
     "output_type": "execute_result"
    }
   ],
   "source": [
    "#get a specific element(work outside in)\n",
    "b[0,1,0]"
   ]
  },
  {
   "cell_type": "code",
   "execution_count": 19,
   "id": "69abf0a3-dae1-4152-b449-a35c36d85125",
   "metadata": {},
   "outputs": [
    {
     "data": {
      "text/plain": [
       "array([[[1, 2],\n",
       "        [9, 9]],\n",
       "\n",
       "       [[5, 6],\n",
       "        [8, 8]]])"
      ]
     },
     "execution_count": 19,
     "metadata": {},
     "output_type": "execute_result"
    }
   ],
   "source": [
    "#replce\n",
    "b[:,1,:]=[[9,9],[8,8]]\n",
    "b"
   ]
  },
  {
   "cell_type": "code",
   "execution_count": 20,
   "id": "41d0e5e9-6b51-404e-ab49-231a4d1fae41",
   "metadata": {},
   "outputs": [
    {
     "data": {
      "text/plain": [
       "array([[0., 0., 0.],\n",
       "       [0., 0., 0.]])"
      ]
     },
     "execution_count": 20,
     "metadata": {},
     "output_type": "execute_result"
    }
   ],
   "source": [
    "#all zeros matrix\n",
    "np.zeros((2,3))"
   ]
  },
  {
   "cell_type": "code",
   "execution_count": 21,
   "id": "2f33d5d5-af1d-4aea-9a64-9f543f131b1e",
   "metadata": {},
   "outputs": [
    {
     "data": {
      "text/plain": [
       "array([[[1, 1],\n",
       "        [1, 1]],\n",
       "\n",
       "       [[1, 1],\n",
       "        [1, 1]],\n",
       "\n",
       "       [[1, 1],\n",
       "        [1, 1]],\n",
       "\n",
       "       [[1, 1],\n",
       "        [1, 1]]])"
      ]
     },
     "execution_count": 21,
     "metadata": {},
     "output_type": "execute_result"
    }
   ],
   "source": [
    "#all ones matrix\n",
    "np.ones((4,2,2),dtype='int32')"
   ]
  },
  {
   "cell_type": "code",
   "execution_count": 22,
   "id": "ae4d89ef-d0bb-40e7-9c1e-20f11b28aae3",
   "metadata": {},
   "outputs": [
    {
     "data": {
      "text/plain": [
       "array([[99., 99.],\n",
       "       [99., 99.]], dtype=float32)"
      ]
     },
     "execution_count": 22,
     "metadata": {},
     "output_type": "execute_result"
    }
   ],
   "source": [
    "#any other numbers\n",
    "np.full((2,2),99,dtype='float32')"
   ]
  },
  {
   "cell_type": "code",
   "execution_count": 23,
   "id": "9e131530-2adb-4d52-a394-b44cde938d28",
   "metadata": {},
   "outputs": [
    {
     "data": {
      "text/plain": [
       "array([[4, 4, 4, 4, 4, 4, 4],\n",
       "       [4, 4, 4, 4, 4, 4, 4]])"
      ]
     },
     "execution_count": 23,
     "metadata": {},
     "output_type": "execute_result"
    }
   ],
   "source": [
    "# anyother number(full_like)\n",
    "np.full_like(a,4)\n",
    "np.full(a.shape,4)"
   ]
  },
  {
   "cell_type": "code",
   "execution_count": 24,
   "id": "4b967c34-557b-44d5-a958-96db3d281c46",
   "metadata": {},
   "outputs": [
    {
     "data": {
      "text/plain": [
       "array([[0.25178194, 0.56997097, 0.64433223, 0.14690893, 0.82382381,\n",
       "        0.84499798, 0.6712931 ],\n",
       "       [0.96298665, 0.6798874 , 0.40071803, 0.17182268, 0.7294996 ,\n",
       "        0.13165571, 0.06165   ]])"
      ]
     },
     "execution_count": 24,
     "metadata": {},
     "output_type": "execute_result"
    }
   ],
   "source": [
    "#Random decimal numbers\n",
    "np.random.rand(4,2)\n",
    "np.random.random_sample(a.shape)"
   ]
  },
  {
   "cell_type": "code",
   "execution_count": 25,
   "id": "19d1d9c4-20e6-4813-8e1a-e3c0851bc1dd",
   "metadata": {},
   "outputs": [
    {
     "data": {
      "text/plain": [
       "array([[6, 5, 6],\n",
       "       [6, 3, 1],\n",
       "       [3, 3, 3]])"
      ]
     },
     "execution_count": 25,
     "metadata": {},
     "output_type": "execute_result"
    }
   ],
   "source": [
    "#random integer values\n",
    "np.random.randint(1,7,size=(3,3))"
   ]
  },
  {
   "cell_type": "code",
   "execution_count": 26,
   "id": "1f630e44-e813-4374-83e7-ba7f7c1ae167",
   "metadata": {},
   "outputs": [
    {
     "data": {
      "text/plain": [
       "array([[1., 0., 0., 0., 0.],\n",
       "       [0., 1., 0., 0., 0.],\n",
       "       [0., 0., 1., 0., 0.],\n",
       "       [0., 0., 0., 1., 0.],\n",
       "       [0., 0., 0., 0., 1.]])"
      ]
     },
     "execution_count": 26,
     "metadata": {},
     "output_type": "execute_result"
    }
   ],
   "source": [
    "#identity matrix\n",
    "np.identity(5)"
   ]
  },
  {
   "cell_type": "code",
   "execution_count": 27,
   "id": "1fe6136c-9482-4ab1-b0da-bb37e732cd9a",
   "metadata": {},
   "outputs": [
    {
     "data": {
      "text/plain": [
       "array([[1, 2, 3],\n",
       "       [1, 2, 3],\n",
       "       [1, 2, 3]])"
      ]
     },
     "execution_count": 27,
     "metadata": {},
     "output_type": "execute_result"
    }
   ],
   "source": [
    "#repeat an array\n",
    "arr=np.array([[1,2,3]])\n",
    "r1=np.repeat(arr,3,axis=0)\n",
    "r1"
   ]
  },
  {
   "cell_type": "code",
   "execution_count": 28,
   "id": "bb061e40-da71-4889-872e-5f945e4ee8ac",
   "metadata": {},
   "outputs": [
    {
     "data": {
      "text/plain": [
       "array([[1., 1., 1., 1., 1.],\n",
       "       [1., 0., 0., 0., 1.],\n",
       "       [1., 0., 9., 0., 1.],\n",
       "       [1., 0., 0., 0., 1.],\n",
       "       [1., 1., 1., 1., 1.]])"
      ]
     },
     "execution_count": 28,
     "metadata": {},
     "output_type": "execute_result"
    }
   ],
   "source": [
    "# r2=np.ones((5,5))\n",
    "# r2[1:4,1:4]=0\n",
    "# r2[2,2]=9\n",
    "# r2\n",
    "output=np.ones((5,5))\n",
    "z=np.zeros((3,3))\n",
    "z[1,1]=9\n",
    "output[1:-1,1:-1]=z\n",
    "output"
   ]
  },
  {
   "cell_type": "code",
   "execution_count": 29,
   "id": "ca04ec44-10c2-416f-b5ee-531d06ce4cc0",
   "metadata": {},
   "outputs": [
    {
     "data": {
      "text/plain": [
       "(array([1, 2, 3]), array([100,   2,   3]))"
      ]
     },
     "execution_count": 29,
     "metadata": {},
     "output_type": "execute_result"
    }
   ],
   "source": [
    "####BECAREFUL WHEN COPYING ARRAYS\n",
    "a=np.array([1,2,3])\n",
    "b=a\n",
    "b[0]=100 #changing b will also change a\n",
    "b,a\n",
    "\n",
    "#solution\n",
    "a=np.array([1,2,3])\n",
    "b=a.copy()\n",
    "b[0]=100\n",
    "a,b"
   ]
  },
  {
   "cell_type": "code",
   "execution_count": 30,
   "id": "4f204c3f-edb4-4df0-8d45-54bee7f69668",
   "metadata": {},
   "outputs": [],
   "source": [
    "#mathmatics\n",
    "a=np.array([1,2,3,4])"
   ]
  },
  {
   "cell_type": "code",
   "execution_count": 31,
   "id": "5dbdb849-ce4d-432b-b136-f8b5e6a87980",
   "metadata": {},
   "outputs": [
    {
     "data": {
      "text/plain": [
       "array([ 0.84147098,  0.90929743,  0.14112001, -0.7568025 ])"
      ]
     },
     "execution_count": 31,
     "metadata": {},
     "output_type": "execute_result"
    }
   ],
   "source": [
    "#take the sin of all the valuues\n",
    "np.sin(a)"
   ]
  },
  {
   "cell_type": "code",
   "execution_count": 32,
   "id": "c3f92ae7-446a-483a-96e2-73712ca56b08",
   "metadata": {},
   "outputs": [
    {
     "data": {
      "text/plain": [
       "array([[6, 6],\n",
       "       [6, 6]])"
      ]
     },
     "execution_count": 32,
     "metadata": {},
     "output_type": "execute_result"
    }
   ],
   "source": [
    "#Linear algebra\n",
    "a=np.full((2,3),1)\n",
    "b=np.full((3,2),2)\n",
    "a,b\n",
    "np.matmul(a,b)"
   ]
  },
  {
   "cell_type": "code",
   "execution_count": 33,
   "id": "231e119c-b245-4425-ac97-9c8e09c2b01c",
   "metadata": {},
   "outputs": [
    {
     "data": {
      "text/plain": [
       "1.0"
      ]
     },
     "execution_count": 33,
     "metadata": {},
     "output_type": "execute_result"
    }
   ],
   "source": [
    "c=np.identity(3)\n",
    "np.linalg.det(c)"
   ]
  },
  {
   "cell_type": "code",
   "execution_count": 34,
   "id": "c7cbaaa2-da43-40a7-af7d-24b46d83770b",
   "metadata": {},
   "outputs": [
    {
     "data": {
      "text/plain": [
       "array([1, 3])"
      ]
     },
     "execution_count": 34,
     "metadata": {},
     "output_type": "execute_result"
    }
   ],
   "source": [
    "##Statistics\n",
    "stats=np.array([[1,2,4],[3,5,6]])\n",
    "np.min(stats,axis=1)"
   ]
  },
  {
   "cell_type": "code",
   "execution_count": 35,
   "id": "18064970-ef10-4623-a60b-cf5a42e23444",
   "metadata": {},
   "outputs": [
    {
     "data": {
      "text/plain": [
       "array([3, 5, 6])"
      ]
     },
     "execution_count": 35,
     "metadata": {},
     "output_type": "execute_result"
    }
   ],
   "source": [
    "np.max(stats,axis=0)"
   ]
  },
  {
   "cell_type": "code",
   "execution_count": 36,
   "id": "941577c1-ee68-41a1-94ec-fb5513178415",
   "metadata": {},
   "outputs": [
    {
     "data": {
      "text/plain": [
       "array([ 7, 14])"
      ]
     },
     "execution_count": 36,
     "metadata": {},
     "output_type": "execute_result"
    }
   ],
   "source": [
    "np.sum(stats,axis=1)"
   ]
  },
  {
   "cell_type": "code",
   "execution_count": 37,
   "id": "b2ddc951-cc0a-4aaf-a131-d2a967e217e7",
   "metadata": {},
   "outputs": [
    {
     "data": {
      "text/plain": [
       "array([[[1, 2],\n",
       "        [3, 4]],\n",
       "\n",
       "       [[5, 6],\n",
       "        [7, 8]]])"
      ]
     },
     "execution_count": 37,
     "metadata": {},
     "output_type": "execute_result"
    }
   ],
   "source": [
    "before = stats=np.array([[1,2,3,4],[5,6,7,8]])\n",
    "before.reshape((2,2,2))"
   ]
  },
  {
   "cell_type": "code",
   "execution_count": 38,
   "id": "de6aac2b-8745-4118-af47-e6f86d55cc5c",
   "metadata": {},
   "outputs": [
    {
     "data": {
      "text/plain": [
       "array([[1, 2, 3, 4],\n",
       "       [1, 2, 3, 4],\n",
       "       [5, 6, 7, 8]])"
      ]
     },
     "execution_count": 38,
     "metadata": {},
     "output_type": "execute_result"
    }
   ],
   "source": [
    "#vertically stacking vectors\n",
    "v1=np.array([1,2,3,4])\n",
    "v2=np.array([5,6,7,8])\n",
    "np.vstack([v1,v1,v2])"
   ]
  },
  {
   "cell_type": "code",
   "execution_count": 39,
   "id": "cbdfb5a3-f50e-4ba5-b592-5c43733e6b7c",
   "metadata": {},
   "outputs": [
    {
     "data": {
      "text/plain": [
       "array([[1, 2, 3, 4],\n",
       "       [5, 6, 7, 8]])"
      ]
     },
     "execution_count": 39,
     "metadata": {},
     "output_type": "execute_result"
    }
   ],
   "source": [
    "np.stack([v1,v2],axis=0)"
   ]
  },
  {
   "cell_type": "code",
   "execution_count": 40,
   "id": "57c66e44-3283-4855-940d-34b3bb8052f5",
   "metadata": {},
   "outputs": [
    {
     "data": {
      "text/plain": [
       "array([1, 2, 3, 4, 5, 6, 7, 8, 5, 6, 7, 8])"
      ]
     },
     "execution_count": 40,
     "metadata": {},
     "output_type": "execute_result"
    }
   ],
   "source": [
    "np.hstack([v1,v2,v2])"
   ]
  },
  {
   "cell_type": "code",
   "execution_count": 41,
   "id": "16dc423f-6ced-4f85-8f9f-368b28337d02",
   "metadata": {},
   "outputs": [
    {
     "data": {
      "text/plain": [
       "array([[2, 2, 2],\n",
       "       [2, 1, 3]])"
      ]
     },
     "execution_count": 41,
     "metadata": {},
     "output_type": "execute_result"
    }
   ],
   "source": [
    "#BOOleam masking and advance indexing\n",
    "a=np.random.randint(1,7,(2,3))\n",
    "a"
   ]
  },
  {
   "cell_type": "code",
   "execution_count": 42,
   "id": "2d407c36-eb5f-4b6d-b6c5-54b062a00a71",
   "metadata": {},
   "outputs": [
    {
     "data": {
      "text/plain": [
       "array([], dtype=int32)"
      ]
     },
     "execution_count": 42,
     "metadata": {},
     "output_type": "execute_result"
    }
   ],
   "source": [
    "a[a>3]#you can index with a list in numpy"
   ]
  },
  {
   "cell_type": "code",
   "execution_count": 43,
   "id": "1c87e093-8b04-44ef-9b15-5b26fc6f9b90",
   "metadata": {},
   "outputs": [
    {
     "data": {
      "text/plain": [
       "array([2, 3, 9])"
      ]
     },
     "execution_count": 43,
     "metadata": {},
     "output_type": "execute_result"
    }
   ],
   "source": [
    "b=np.array([1,2,3,4,5,6,7,8,9])\n",
    "b[[1,2,8]]"
   ]
  },
  {
   "cell_type": "code",
   "execution_count": 44,
   "id": "fa7e6cf9-9068-40f0-a596-5160fc443c5a",
   "metadata": {},
   "outputs": [
    {
     "data": {
      "text/plain": [
       "array([False, False, False])"
      ]
     },
     "execution_count": 44,
     "metadata": {},
     "output_type": "execute_result"
    }
   ],
   "source": [
    "np.any(a>3,axis=0)"
   ]
  },
  {
   "cell_type": "code",
   "execution_count": 45,
   "id": "b8c80729-0cf8-41d0-93c4-d08033260b75",
   "metadata": {},
   "outputs": [
    {
     "data": {
      "text/plain": [
       "array([False, False])"
      ]
     },
     "execution_count": 45,
     "metadata": {},
     "output_type": "execute_result"
    }
   ],
   "source": [
    "np.any(a>3,axis=1)"
   ]
  },
  {
   "cell_type": "code",
   "execution_count": 46,
   "id": "438f79d9-0d3d-424e-9175-c47bf221c558",
   "metadata": {},
   "outputs": [
    {
     "data": {
      "text/plain": [
       "array([False, False, False])"
      ]
     },
     "execution_count": 46,
     "metadata": {},
     "output_type": "execute_result"
    }
   ],
   "source": [
    "np.all(a>3,axis=0)"
   ]
  },
  {
   "cell_type": "code",
   "execution_count": 47,
   "id": "e74d8e06-f5a7-4ffd-905b-695a20e3cd10",
   "metadata": {},
   "outputs": [
    {
     "data": {
      "text/plain": [
       "array([[False, False, False],\n",
       "       [False, False, False]])"
      ]
     },
     "execution_count": 47,
     "metadata": {},
     "output_type": "execute_result"
    }
   ],
   "source": [
    "(a>3) &(a<6)"
   ]
  },
  {
   "cell_type": "code",
   "execution_count": 48,
   "id": "fd12b99c-ff9e-434c-b026-99432fead33e",
   "metadata": {},
   "outputs": [
    {
     "data": {
      "text/plain": [
       "array([[ True,  True,  True],\n",
       "       [ True,  True,  True]])"
      ]
     },
     "execution_count": 48,
     "metadata": {},
     "output_type": "execute_result"
    }
   ],
   "source": [
    "~((a>3)&(a<5))"
   ]
  },
  {
   "cell_type": "code",
   "execution_count": 49,
   "id": "bd954ccd-bda6-4ee0-846a-137872a2724f",
   "metadata": {},
   "outputs": [
    {
     "name": "stdout",
     "output_type": "stream",
     "text": [
      "[[15  7  7  7 25]\n",
      " [23 28 13 21 24]\n",
      " [25 12 17 28  9]\n",
      " [14 22 19 23 26]\n",
      " [30  6 24 11  6]]\n",
      "[[25 12]\n",
      " [14 22]]\n",
      "[ 7 13 28 26]\n"
     ]
    }
   ],
   "source": [
    "test=np.random.randint(1,31,(5,5))\n",
    "print(test)\n",
    "print(test[2:4,0:2])\n",
    "print(test[[0,1,2,3],[1,2,3,4]])"
   ]
  },
  {
   "cell_type": "code",
   "execution_count": null,
   "id": "642bc713-8c7e-4d18-a912-8fe9a5f8f702",
   "metadata": {},
   "outputs": [],
   "source": []
  }
 ],
 "metadata": {
  "kernelspec": {
   "display_name": "Python 3 (ipykernel)",
   "language": "python",
   "name": "python3"
  },
  "language_info": {
   "codemirror_mode": {
    "name": "ipython",
    "version": 3
   },
   "file_extension": ".py",
   "mimetype": "text/x-python",
   "name": "python",
   "nbconvert_exporter": "python",
   "pygments_lexer": "ipython3",
   "version": "3.11.7"
  }
 },
 "nbformat": 4,
 "nbformat_minor": 5
}
