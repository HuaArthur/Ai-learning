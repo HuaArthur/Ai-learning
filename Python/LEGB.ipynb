{
 "cells": [
  {
   "cell_type": "markdown",
   "id": "875042a2-8d54-4c92-8302-56206d958847",
   "metadata": {},
   "source": [
    "# LEGB : Local, Enclosing, Global, Built-in"
   ]
  },
  {
   "cell_type": "markdown",
   "id": "f0152eed-b9dd-427b-abba-1c8b3d790f84",
   "metadata": {},
   "source": [
    "### Local and Global"
   ]
  },
  {
   "cell_type": "code",
   "execution_count": 8,
   "id": "3c6634dd-c55c-44ee-8c5d-25d0e3a6acc6",
   "metadata": {},
   "outputs": [
    {
     "name": "stdout",
     "output_type": "stream",
     "text": [
      "local y\n",
      "global x\n"
     ]
    }
   ],
   "source": [
    "x = 'global x'\n",
    "def test():\n",
    "    y = 'local y'\n",
    "    print(y) # local\n",
    "    print(x) # global\n",
    "test()"
   ]
  },
  {
   "cell_type": "code",
   "execution_count": 9,
   "id": "ee0057ef-e632-47be-843c-0578aae6b326",
   "metadata": {},
   "outputs": [
    {
     "ename": "NameError",
     "evalue": "name 'y' is not defined",
     "output_type": "error",
     "traceback": [
      "\u001b[1;31m---------------------------------------------------------------------------\u001b[0m",
      "\u001b[1;31mNameError\u001b[0m                                 Traceback (most recent call last)",
      "Cell \u001b[1;32mIn[9], line 1\u001b[0m\n\u001b[1;32m----> 1\u001b[0m \u001b[38;5;28mprint\u001b[39m(y)\n",
      "\u001b[1;31mNameError\u001b[0m: name 'y' is not defined"
     ]
    }
   ],
   "source": [
    "print(y)"
   ]
  },
  {
   "cell_type": "code",
   "execution_count": 13,
   "id": "0f3390d3-4f9e-4880-8302-64744250ff95",
   "metadata": {},
   "outputs": [
    {
     "name": "stdout",
     "output_type": "stream",
     "text": [
      "global x\n"
     ]
    }
   ],
   "source": [
    "print(x)"
   ]
  },
  {
   "cell_type": "code",
   "execution_count": 17,
   "id": "a85054ca-52c9-439a-bd36-c7c89fe94578",
   "metadata": {},
   "outputs": [
    {
     "name": "stdout",
     "output_type": "stream",
     "text": [
      "local x\n"
     ]
    }
   ],
   "source": [
    "x = 'global x'\n",
    "def test2():\n",
    "    x = 'local x'\n",
    "    print(x) # local\n",
    "test2()\n"
   ]
  },
  {
   "cell_type": "code",
   "execution_count": 20,
   "id": "6f2d6af9-bb6c-4eb5-ad49-3397922ae212",
   "metadata": {},
   "outputs": [
    {
     "name": "stdout",
     "output_type": "stream",
     "text": [
      "local x\n",
      "local x\n"
     ]
    }
   ],
   "source": [
    "x = 'global x'\n",
    "def test3():\n",
    "    global x # work with the global x variable\n",
    "    x = 'local x'\n",
    "    print(x) # global\n",
    "test3()\n",
    "print(x)"
   ]
  },
  {
   "cell_type": "code",
   "execution_count": 25,
   "id": "3fa9bca0-b39a-4b32-a63c-299b81e74f27",
   "metadata": {},
   "outputs": [
    {
     "name": "stdout",
     "output_type": "stream",
     "text": [
      "local z\n"
     ]
    }
   ],
   "source": [
    "def test4(z):\n",
    "    x = 'local x'\n",
    "    print(z)\n",
    "test4('local z')\n",
    "# print(z) # an error occurs"
   ]
  },
  {
   "cell_type": "markdown",
   "id": "9a14880b-e16f-4941-a1af-8efaa3f53299",
   "metadata": {},
   "source": [
    "### Built-in"
   ]
  },
  {
   "cell_type": "code",
   "execution_count": 32,
   "id": "9e0d9937-7e43-4b75-80b8-945596645c87",
   "metadata": {},
   "outputs": [
    {
     "name": "stdout",
     "output_type": "stream",
     "text": [
      "None\n"
     ]
    }
   ],
   "source": [
    "import builtins\n",
    "# print(dir(builtins))\n",
    "def min(a):\n",
    "    pass\n",
    "m = min([5,1,4,2,3]) # find min in the global scope instead of built-in scope\n",
    "print(m)"
   ]
  },
  {
   "cell_type": "markdown",
   "id": "7fe72afa-5b7f-4e75-ae03-7623cd159eff",
   "metadata": {},
   "source": [
    "### Enclosing"
   ]
  },
  {
   "cell_type": "code",
   "execution_count": 38,
   "id": "da58463c-215f-4a0b-8955-4a7d1ecc3070",
   "metadata": {},
   "outputs": [
    {
     "name": "stdout",
     "output_type": "stream",
     "text": [
      "inner x\n",
      "outer x\n"
     ]
    }
   ],
   "source": [
    "def outer1():\n",
    "    x = 'outer x'\n",
    "    def inner1():\n",
    "        x = 'inner x'\n",
    "        print(x)\n",
    "    inner1()\n",
    "    print(x)\n",
    "outer1()"
   ]
  },
  {
   "cell_type": "code",
   "execution_count": 39,
   "id": "c7ceb22c-0c39-4cb2-b45c-2aa523ab3400",
   "metadata": {},
   "outputs": [
    {
     "name": "stdout",
     "output_type": "stream",
     "text": [
      "outer x\n",
      "outer x\n"
     ]
    }
   ],
   "source": [
    "def outer2():\n",
    "    x = 'outer x'\n",
    "    def inner2():\n",
    "    #   x = 'inner x'\n",
    "        print(x)\n",
    "    inner2()\n",
    "    print(x)\n",
    "outer2()"
   ]
  },
  {
   "cell_type": "code",
   "execution_count": 40,
   "id": "aceb04d7-cdc2-4b87-bbfc-3b686a14f9fa",
   "metadata": {},
   "outputs": [
    {
     "name": "stdout",
     "output_type": "stream",
     "text": [
      "inner y\n"
     ]
    },
    {
     "ename": "NameError",
     "evalue": "name 'y' is not defined",
     "output_type": "error",
     "traceback": [
      "\u001b[1;31m---------------------------------------------------------------------------\u001b[0m",
      "\u001b[1;31mNameError\u001b[0m                                 Traceback (most recent call last)",
      "Cell \u001b[1;32mIn[40], line 8\u001b[0m\n\u001b[0;32m      6\u001b[0m     inner3()\n\u001b[0;32m      7\u001b[0m     \u001b[38;5;28mprint\u001b[39m(y) \u001b[38;5;66;03m# an error occurs\u001b[39;00m\n\u001b[1;32m----> 8\u001b[0m outer3()\n",
      "Cell \u001b[1;32mIn[40], line 7\u001b[0m, in \u001b[0;36mouter3\u001b[1;34m()\u001b[0m\n\u001b[0;32m      5\u001b[0m     \u001b[38;5;28mprint\u001b[39m(y)\n\u001b[0;32m      6\u001b[0m inner3()\n\u001b[1;32m----> 7\u001b[0m \u001b[38;5;28mprint\u001b[39m(y)\n",
      "\u001b[1;31mNameError\u001b[0m: name 'y' is not defined"
     ]
    }
   ],
   "source": [
    "def outer3():\n",
    "    # x = 'outer x'\n",
    "    def inner3():\n",
    "        y = 'inner y'\n",
    "        print(y)\n",
    "    inner3()\n",
    "    print(y) # an error occurs\n",
    "outer3()"
   ]
  },
  {
   "cell_type": "code",
   "execution_count": 44,
   "id": "b768edc9-0db0-457e-8234-1bce8f34c99c",
   "metadata": {},
   "outputs": [
    {
     "name": "stdout",
     "output_type": "stream",
     "text": [
      "inner x\n",
      "inner x\n",
      "global x\n"
     ]
    }
   ],
   "source": [
    "x = 'global x'\n",
    "def outer4():\n",
    "    x = 'outer x'\n",
    "    def inner4():\n",
    "        nonlocal x\n",
    "        x = 'inner x'\n",
    "        print(x)\n",
    "    inner4()\n",
    "    print(x)\n",
    "outer4()\n",
    "print(x)"
   ]
  },
  {
   "cell_type": "raw",
   "id": "5f56cd7b-a3f4-49d9-91ab-7af6931443d5",
   "metadata": {},
   "source": []
  }
 ],
 "metadata": {
  "kernelspec": {
   "display_name": "Python 3 (ipykernel)",
   "language": "python",
   "name": "python3"
  },
  "language_info": {
   "codemirror_mode": {
    "name": "ipython",
    "version": 3
   },
   "file_extension": ".py",
   "mimetype": "text/x-python",
   "name": "python",
   "nbconvert_exporter": "python",
   "pygments_lexer": "ipython3",
   "version": "3.11.8"
  }
 },
 "nbformat": 4,
 "nbformat_minor": 5
}
