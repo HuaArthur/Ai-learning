{
 "cells": [
  {
   "cell_type": "markdown",
   "id": "1cc6fd42-55f5-4016-8891-24229f9eedff",
   "metadata": {},
   "source": [
    "# list comprehension"
   ]
  },
  {
   "cell_type": "code",
   "execution_count": 25,
   "id": "1c00dee4-feb2-41b8-82d5-fb7fc03b1acd",
   "metadata": {},
   "outputs": [],
   "source": [
    "nums = list(range(1,11))\n",
    "my_list = []"
   ]
  },
  {
   "cell_type": "code",
   "execution_count": 26,
   "id": "a2c68d55-7b28-4925-8ad4-34100995195f",
   "metadata": {},
   "outputs": [
    {
     "data": {
      "text/plain": [
       "[1, 2, 3, 4, 5, 6, 7, 8, 9, 10]"
      ]
     },
     "execution_count": 26,
     "metadata": {},
     "output_type": "execute_result"
    }
   ],
   "source": [
    "for n in nums:\n",
    "    my_list.append(n)\n",
    "my_list\n"
   ]
  },
  {
   "cell_type": "code",
   "execution_count": 28,
   "id": "892d4025-212e-4dce-b16a-e6a1781af260",
   "metadata": {},
   "outputs": [
    {
     "data": {
      "text/plain": [
       "[1, 2, 3, 4, 5, 6, 7, 8, 9, 10]"
      ]
     },
     "execution_count": 28,
     "metadata": {},
     "output_type": "execute_result"
    }
   ],
   "source": [
    "my_list = [n for n in nums]\n",
    "my_list"
   ]
  },
  {
   "cell_type": "code",
   "execution_count": 30,
   "id": "1b31a2cd-9584-4bb7-8475-596a63806554",
   "metadata": {},
   "outputs": [
    {
     "data": {
      "text/plain": [
       "[1, 4, 9, 16, 25, 36, 49, 64, 81, 100]"
      ]
     },
     "execution_count": 30,
     "metadata": {},
     "output_type": "execute_result"
    }
   ],
   "source": [
    "my_list = [n**2 for n in nums]\n",
    "my_list"
   ]
  },
  {
   "cell_type": "code",
   "execution_count": 39,
   "id": "0d46dac0-8af7-4fe6-af50-3d7055667ca1",
   "metadata": {},
   "outputs": [
    {
     "data": {
      "text/plain": [
       "[2, 4, 6, 8, 10]"
      ]
     },
     "execution_count": 39,
     "metadata": {},
     "output_type": "execute_result"
    }
   ],
   "source": [
    "my_list = [n for n in nums if n%2==0]\n",
    "my_list"
   ]
  },
  {
   "cell_type": "markdown",
   "id": "c40e474b-8d00-4bf2-8c40-f9a5219b7ec0",
   "metadata": {},
   "source": [
    "* I want a (letter, num) pair for each letter in 'abcd' and each number in '0123'\n"
   ]
  },
  {
   "cell_type": "code",
   "execution_count": 46,
   "id": "aab48f5a-bd3e-4f6e-8d18-c38d689ab945",
   "metadata": {},
   "outputs": [
    {
     "data": {
      "text/plain": [
       "[('a', 0),\n",
       " ('a', 1),\n",
       " ('a', 2),\n",
       " ('a', 3),\n",
       " ('b', 0),\n",
       " ('b', 1),\n",
       " ('b', 2),\n",
       " ('b', 3),\n",
       " ('c', 0),\n",
       " ('c', 1),\n",
       " ('c', 2),\n",
       " ('c', 3),\n",
       " ('d', 0),\n",
       " ('d', 1),\n",
       " ('d', 2),\n",
       " ('d', 3)]"
      ]
     },
     "execution_count": 46,
     "metadata": {},
     "output_type": "execute_result"
    }
   ],
   "source": [
    "# for loop\n",
    "\n",
    "# my_list = []\n",
    "# for letter in 'abcd':\n",
    "#     for num in range(4):\n",
    "#         my_list.append((letter, num))\n",
    "# my_list\n",
    "\n",
    "# list comprehension\n",
    "my_list = [(letter, num) for letter in 'abcd' for num in range(4)]\n",
    "my_list"
   ]
  },
  {
   "cell_type": "markdown",
   "id": "8a5996dc-b22d-47ed-8ae4-2e7d3a743693",
   "metadata": {},
   "source": [
    "* ### dictionary comprehension"
   ]
  },
  {
   "cell_type": "code",
   "execution_count": 50,
   "id": "57a501e1-5baf-414e-9dae-62660592d50e",
   "metadata": {},
   "outputs": [],
   "source": [
    "names = ['Bruce', 'Clark', 'Peter', 'Logan', 'Wade']\n",
    "heros = ['Batman', 'Superman', 'Spiderman', 'Wolverine', 'Deadpool']"
   ]
  },
  {
   "cell_type": "code",
   "execution_count": 54,
   "id": "488b9083-5ce9-4e72-b2ac-7667e4ab849c",
   "metadata": {},
   "outputs": [
    {
     "data": {
      "text/plain": [
       "{'Bruce': 'Batman',\n",
       " 'Clark': 'Superman',\n",
       " 'Peter': 'Spiderman',\n",
       " 'Logan': 'Wolverine',\n",
       " 'Wade': 'Deadpool'}"
      ]
     },
     "execution_count": 54,
     "metadata": {},
     "output_type": "execute_result"
    }
   ],
   "source": [
    "# for loop\n",
    "\n",
    "# my_dict = {}\n",
    "# for name, hero in zip(names, heros):\n",
    "#     my_dict[name] = hero\n",
    "# my_dict\n",
    "\n",
    "# dictionary comprehension\n",
    "my_dict = {name:hero for name, hero in zip(names, heros)}\n",
    "my_dict"
   ]
  },
  {
   "cell_type": "code",
   "execution_count": 56,
   "id": "83e3905c-bb28-448b-b4be-a454ebfd3d6d",
   "metadata": {},
   "outputs": [
    {
     "data": {
      "text/plain": [
       "{'Bruce': 'Batman',\n",
       " 'Clark': 'Superman',\n",
       " 'Logan': 'Wolverine',\n",
       " 'Wade': 'Deadpool'}"
      ]
     },
     "execution_count": 56,
     "metadata": {},
     "output_type": "execute_result"
    }
   ],
   "source": [
    "# adding restrction\n",
    "my_dict = {name:hero for name, hero in zip(names, heros) if name != 'Peter'}\n",
    "my_dict"
   ]
  },
  {
   "cell_type": "markdown",
   "id": "7a45ac86-7daf-418f-9d5f-00dc0e99428f",
   "metadata": {},
   "source": [
    "* ### set comprehension"
   ]
  },
  {
   "cell_type": "code",
   "execution_count": 62,
   "id": "337951f9-cc75-43bd-ae9d-93724278411e",
   "metadata": {},
   "outputs": [
    {
     "data": {
      "text/plain": [
       "{1, 2, 3, 4, 5, 6, 7, 8, 9}"
      ]
     },
     "execution_count": 62,
     "metadata": {},
     "output_type": "execute_result"
    }
   ],
   "source": [
    "nums = [1,1,2,1,3,4,3,4,5,5,6,7,8,7,9,9]\n",
    "\n",
    "# for loop\n",
    "\n",
    "# my_set = set()\n",
    "# for n in nums:\n",
    "#     my_set.add(n)\n",
    "# my_set\n",
    "\n",
    "# set comprehension\n",
    "\n",
    "my_set = set(n for n in nums)\n",
    "my_set = {n for n in nums} # these two are the same\n",
    "my_set"
   ]
  },
  {
   "cell_type": "markdown",
   "id": "d0e9c090-8337-45aa-b886-078365f407d8",
   "metadata": {},
   "source": [
    "* ### generator expressions (similar to list comprehension)"
   ]
  },
  {
   "cell_type": "code",
   "execution_count": 71,
   "id": "cabb0ce8-7278-4ed4-b11d-0913c5255353",
   "metadata": {},
   "outputs": [
    {
     "name": "stdout",
     "output_type": "stream",
     "text": [
      "1 4 9 16 25 36 49 64 81 100 "
     ]
    }
   ],
   "source": [
    "nums = list(range(1,11))\n",
    "\n",
    "# def gen_func(nums):\n",
    "#     for n in nums:\n",
    "#         yield n*n\n",
    "# my_gen = gen_func(nums)\n",
    "# for i in my_gen:\n",
    "#     print(i, end = ' ')\n",
    "\n",
    "my_gen = (n*n for n in nums)\n",
    "for i in my_gen:\n",
    "    print(i,end = ' ')"
   ]
  }
 ],
 "metadata": {
  "kernelspec": {
   "display_name": "Python 3 (ipykernel)",
   "language": "python",
   "name": "python3"
  },
  "language_info": {
   "codemirror_mode": {
    "name": "ipython",
    "version": 3
   },
   "file_extension": ".py",
   "mimetype": "text/x-python",
   "name": "python",
   "nbconvert_exporter": "python",
   "pygments_lexer": "ipython3",
   "version": "3.11.8"
  }
 },
 "nbformat": 4,
 "nbformat_minor": 5
}
