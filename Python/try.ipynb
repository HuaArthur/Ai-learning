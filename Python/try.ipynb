{
 "cells": [
  {
   "cell_type": "code",
   "execution_count": 1,
   "id": "88f77dc3-fbf2-4399-9a83-94d9552dfa26",
   "metadata": {},
   "outputs": [
    {
     "name": "stdout",
     "output_type": "stream",
     "text": [
      "Sorry. This file does't exist\n"
     ]
    }
   ],
   "source": [
    "try:\n",
    "    f = open('testfile.txt')\n",
    "except Exception:\n",
    "    print(\"Sorry. This file does't exist\")"
   ]
  },
  {
   "cell_type": "code",
   "execution_count": 2,
   "id": "b979f127-ea86-497d-af75-8e733afc4cb8",
   "metadata": {},
   "outputs": [
    {
     "name": "stdout",
     "output_type": "stream",
     "text": [
      "Sorry. This file does't exist\n"
     ]
    }
   ],
   "source": [
    "try:\n",
    "    f = open('testfile.txt')\n",
    "except FileNotFoundError:\n",
    "    print(\"Sorry. This file does't exist\")\n",
    "except Exception:\n",
    "    print(\"Sorry. Something went wrong\")"
   ]
  },
  {
   "cell_type": "code",
   "execution_count": 3,
   "id": "be1b6f04-1808-46ce-8082-cad155944935",
   "metadata": {
    "scrolled": true
   },
   "outputs": [
    {
     "name": "stdout",
     "output_type": "stream",
     "text": [
      "[Errno 2] No such file or directory: 'testfile.txt'\n"
     ]
    }
   ],
   "source": [
    "try:\n",
    "    f = open('testfile.txt')\n",
    "except Exception as e:\n",
    "    print(e)"
   ]
  },
  {
   "cell_type": "code",
   "execution_count": 5,
   "id": "3f68191e-d9e7-414d-9f7e-67ea92aa6aea",
   "metadata": {},
   "outputs": [
    {
     "name": "stdout",
     "output_type": "stream",
     "text": [
      "test file\n"
     ]
    }
   ],
   "source": [
    "try:\n",
    "    f = open('test_file.txt')\n",
    "except FileNotFoundError as e:\n",
    "    print(e)\n",
    "except Exception as e:\n",
    "    print(e)\n",
    "else:\n",
    "    print(f.read())\n",
    "    f.close()"
   ]
  },
  {
   "cell_type": "code",
   "execution_count": 7,
   "id": "d542bd26-ee17-483a-9e3a-231a130cb650",
   "metadata": {},
   "outputs": [
    {
     "name": "stdout",
     "output_type": "stream",
     "text": [
      "[Errno 2] No such file or directory: 'testfile.txt'\n",
      "executing finally...\n"
     ]
    }
   ],
   "source": [
    "try:\n",
    "    f = open('testfile.txt')\n",
    "except FileNotFoundError as e:\n",
    "    print(e)\n",
    "except Exception as e:\n",
    "    print(e)\n",
    "else:\n",
    "    print(f.read())\n",
    "    f.close()\n",
    "finally:\n",
    "    print(\"executing finally...\")"
   ]
  },
  {
   "cell_type": "code",
   "execution_count": 9,
   "id": "a438dd98-f6c5-421c-a3a3-a9cb5782ab52",
   "metadata": {},
   "outputs": [
    {
     "name": "stdout",
     "output_type": "stream",
     "text": [
      "[Errno 2] No such file or directory: 'testfile.txt'\n",
      "executing finally...\n"
     ]
    }
   ],
   "source": [
    "try:\n",
    "    f = open('testfile.txt')\n",
    "    if f.name == 'testfile.txt':\n",
    "        raise Exception\n",
    "except Exception as e:\n",
    "    print(e)\n",
    "finally:\n",
    "    print(\"executing finally...\")"
   ]
  },
  {
   "cell_type": "code",
   "execution_count": null,
   "id": "5f2cfa72-0174-417d-8f43-e8f295350f0b",
   "metadata": {},
   "outputs": [],
   "source": []
  }
 ],
 "metadata": {
  "kernelspec": {
   "display_name": "Python 3 (ipykernel)",
   "language": "python",
   "name": "python3"
  },
  "language_info": {
   "codemirror_mode": {
    "name": "ipython",
    "version": 3
   },
   "file_extension": ".py",
   "mimetype": "text/x-python",
   "name": "python",
   "nbconvert_exporter": "python",
   "pygments_lexer": "ipython3",
   "version": "3.11.8"
  }
 },
 "nbformat": 4,
 "nbformat_minor": 5
}
