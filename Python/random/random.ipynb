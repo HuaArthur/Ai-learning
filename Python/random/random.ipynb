{
 "cells": [
  {
   "cell_type": "code",
   "execution_count": 12,
   "id": "fc674504-db6d-47c2-b59d-82d78d5300ff",
   "metadata": {},
   "outputs": [
    {
     "name": "stdout",
     "output_type": "stream",
     "text": [
      "0.14102327895074696\n"
     ]
    }
   ],
   "source": [
    "import random\n",
    "value = random.random() # generate a random value [0,1)\n",
    "print(value)"
   ]
  },
  {
   "cell_type": "code",
   "execution_count": 22,
   "id": "9a8a37a4-42a4-4c34-b9c3-7622e0d3902b",
   "metadata": {},
   "outputs": [
    {
     "name": "stdout",
     "output_type": "stream",
     "text": [
      "2.213608198188681\n"
     ]
    }
   ],
   "source": [
    "value = random.uniform(1,10) # [1,10)\n",
    "print(value)"
   ]
  },
  {
   "cell_type": "code",
   "execution_count": 19,
   "id": "293b80df-5fc3-4e7d-8951-9adb001c7f70",
   "metadata": {},
   "outputs": [
    {
     "name": "stdout",
     "output_type": "stream",
     "text": [
      "3\n"
     ]
    }
   ],
   "source": [
    "value = random.randint(1,6) # [1,6] including 1 and 6\n",
    "print(value)"
   ]
  },
  {
   "cell_type": "code",
   "execution_count": 33,
   "id": "4435191d-ebb8-48dc-b543-a34b3499bc2e",
   "metadata": {},
   "outputs": [
    {
     "name": "stdout",
     "output_type": "stream",
     "text": [
      "Hola, Arthur!\n"
     ]
    }
   ],
   "source": [
    "greetings = ['Hello', 'Hi', 'Hey', 'Howdy', 'Hola']\n",
    "value = random.choice(greetings)\n",
    "print(value + ', Arthur!')"
   ]
  },
  {
   "cell_type": "code",
   "execution_count": 40,
   "id": "579f9514-ba7f-4d9c-8f8a-4773e84d155a",
   "metadata": {},
   "outputs": [
    {
     "name": "stdout",
     "output_type": "stream",
     "text": [
      "['Black', 'Red', 'Red', 'Green', 'Red', 'Black', 'Red', 'Red', 'Red', 'Red']\n"
     ]
    }
   ],
   "source": [
    "colors = ['Red', 'Black', 'Green']\n",
    "results = random.choices(colors,weights = [18,18,2], k = 10) # how many times\n",
    "print(results)"
   ]
  },
  {
   "cell_type": "code",
   "execution_count": 47,
   "id": "6e3413ea-9e7f-44b8-a8ef-0ddd67b146f3",
   "metadata": {},
   "outputs": [
    {
     "name": "stdout",
     "output_type": "stream",
     "text": [
      "[38, 41, 48, 11, 31, 7, 6, 15, 17, 52, 43, 19, 27, 4, 45, 40, 18, 21, 36, 2, 9, 14, 1, 50, 5, 47, 35, 29, 30, 3, 22, 24, 32, 49, 26, 23, 20, 12, 25, 28, 42, 16, 34, 8, 13, 33, 37, 46, 39, 44, 51, 10]\n",
      "[3, 50, 52, 1, 46]\n"
     ]
    }
   ],
   "source": [
    "deck = list(range(1,53))\n",
    "random.shuffle(deck)\n",
    "# random.choices might grad one sample mltiple times, so we are using random.sample\n",
    "hand = random.sample(deck, k = 5)\n",
    "print(deck)\n",
    "print(hand)"
   ]
  },
  {
   "cell_type": "code",
   "execution_count": null,
   "id": "d7f768b6-ef07-4131-8be7-4aab33be2c1e",
   "metadata": {},
   "outputs": [],
   "source": []
  }
 ],
 "metadata": {
  "kernelspec": {
   "display_name": "Python 3 (ipykernel)",
   "language": "python",
   "name": "python3"
  },
  "language_info": {
   "codemirror_mode": {
    "name": "ipython",
    "version": 3
   },
   "file_extension": ".py",
   "mimetype": "text/x-python",
   "name": "python",
   "nbconvert_exporter": "python",
   "pygments_lexer": "ipython3",
   "version": "3.11.8"
  }
 },
 "nbformat": 4,
 "nbformat_minor": 5
}
