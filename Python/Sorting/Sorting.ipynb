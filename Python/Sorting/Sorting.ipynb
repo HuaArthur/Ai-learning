{
 "cells": [
  {
   "cell_type": "markdown",
   "id": "d758d257-50f0-4f3c-b329-015c7443b476",
   "metadata": {},
   "source": [
    "# Sorting"
   ]
  },
  {
   "cell_type": "markdown",
   "id": "33b9df51-ddcf-4087-b735-8260ab7417d6",
   "metadata": {},
   "source": [
    "### timing"
   ]
  },
  {
   "cell_type": "code",
   "execution_count": 1,
   "id": "5fa24297-d143-4de9-8728-bd6242c19fa3",
   "metadata": {},
   "outputs": [],
   "source": [
    "from random import randint\n",
    "from timeit import repeat\n",
    "\n",
    "def run_sorting_algorithm(algorithm, array):\n",
    "    # Set up the context and prepare the call to the specified\n",
    "    # algorithm using the supplied array. Only import the\n",
    "    # algorithm function if it's not the built-in `sorted()`.\n",
    "    setup_code = f\"from __main__ import {algorithm}\" \\\n",
    "        if algorithm != \"sorted\" else \"\"\n",
    "\n",
    "    stmt = f\"{algorithm}({array})\"\n",
    "\n",
    "    # Execute the code ten different times and return the time\n",
    "    # in seconds that each execution took\n",
    "    times = repeat(setup=setup_code, stmt=stmt, repeat=3, number=10)\n",
    "\n",
    "    # Finally, display the name of the algorithm and the\n",
    "    # minimum time it took to run\n",
    "    print(f\"Algorithm: {algorithm}. Minimum execution time: {min(times)}\")"
   ]
  },
  {
   "cell_type": "markdown",
   "id": "d24bc695-e168-4898-95cf-5f6375152822",
   "metadata": {},
   "source": [
    "### Built-in function"
   ]
  },
  {
   "cell_type": "code",
   "execution_count": 2,
   "id": "41f66b90-d382-47ff-9206-5a618415c32d",
   "metadata": {},
   "outputs": [
    {
     "name": "stdout",
     "output_type": "stream",
     "text": [
      "Algorithm: sorted. Minimum execution time: 0.007791799958795309\n"
     ]
    }
   ],
   "source": [
    "ARRAY_LENGTH = 10000\n",
    "\n",
    "if __name__ == \"__main__\":\n",
    "    # Generate an array of `ARRAY_LENGTH` items consisting\n",
    "    # of random integer values between 0 and 999\n",
    "    array = [randint(0, 1000) for i in range(ARRAY_LENGTH)]\n",
    "\n",
    "    # Call the function using the name of the sorting algorithm\n",
    "    # and the array you just created\n",
    "    run_sorting_algorithm(algorithm=\"sorted\", array=array)"
   ]
  },
  {
   "cell_type": "markdown",
   "id": "f03cf4e6-27b2-4c14-acd3-2099d3952f89",
   "metadata": {},
   "source": [
    "### Bubble sort"
   ]
  },
  {
   "cell_type": "code",
   "execution_count": 3,
   "id": "46fee065-daac-44a3-bd68-184cdcbee4cc",
   "metadata": {},
   "outputs": [],
   "source": [
    "def bubble_sort(array):\n",
    "    n = len(array)\n",
    "\n",
    "    for i in range(n):\n",
    "        # Create a flag that will allow the function to\n",
    "        # terminate early if there's nothing left to sort\n",
    "        already_sorted = True\n",
    "\n",
    "        # Start looking at each item of the list one by one,\n",
    "        # comparing it with its adjacent value. With each\n",
    "        # iteration, the portion of the array that you look at\n",
    "        # shrinks because the remaining items have already been\n",
    "        # sorted.\n",
    "        for j in range(n - i - 1):\n",
    "            if array[j] > array[j + 1]:\n",
    "                # If the item you're looking at is greater than its\n",
    "                # adjacent value, then swap them\n",
    "                array[j], array[j + 1] = array[j + 1], array[j]\n",
    "\n",
    "                # Since you had to swap two elements,\n",
    "                # set the `already_sorted` flag to `False` so the\n",
    "                # algorithm doesn't finish prematurely\n",
    "                already_sorted = False\n",
    "\n",
    "        # If there were no swaps during the last iteration,\n",
    "        # the array is already sorted, and you can terminate\n",
    "        if already_sorted:\n",
    "            break\n",
    "\n",
    "    return array\n",
    "# Runtime Complexity : O(n**2)\n"
   ]
  },
  {
   "cell_type": "markdown",
   "id": "b64b7098-74d1-47f2-818e-4a20168e90a2",
   "metadata": {},
   "source": [
    "### Insertion Sort"
   ]
  },
  {
   "cell_type": "code",
   "execution_count": 6,
   "id": "082298de-01d8-4469-93c3-2c8474382ce7",
   "metadata": {},
   "outputs": [],
   "source": [
    "def insertion_sort(array):\n",
    "    # Loop from the second element of the array until\n",
    "    # the last element\n",
    "    for i in range(1, len(array)):\n",
    "        # This is the element we want to position in its\n",
    "        # correct place\n",
    "        key_item = array[i]\n",
    "\n",
    "        # Initialize the variable that will be used to\n",
    "        # find the correct position of the element referenced\n",
    "        # by `key_item`\n",
    "        j = i - 1\n",
    "\n",
    "        # Run through the list of items (the left\n",
    "        # portion of the array) and find the correct position\n",
    "        # of the element referenced by `key_item`. Do this only\n",
    "        # if `key_item` is smaller than its adjacent values.\n",
    "        while j >= 0 and array[j] > key_item:\n",
    "            # Shift the value one position to the left\n",
    "            # and reposition j to point to the next element\n",
    "            # (from right to left)\n",
    "            array[j + 1] = array[j]\n",
    "            j -= 1\n",
    "\n",
    "        # When you finish shifting the elements, you can position\n",
    "        # `key_item` in its correct location\n",
    "        array[j + 1] = key_item\n",
    "\n",
    "    return array\n",
    "# Runtime Complexity : O(n**2)"
   ]
  },
  {
   "cell_type": "markdown",
   "id": "09ce4fe8-7962-49ea-a287-c29c31c64e10",
   "metadata": {},
   "source": [
    "### Merge Sort"
   ]
  },
  {
   "cell_type": "code",
   "execution_count": 8,
   "id": "c77d1b33-b632-4d65-a7fa-b9c14f624c89",
   "metadata": {},
   "outputs": [],
   "source": [
    "def merge(left, right):\n",
    "    # If the first array is empty, then nothing needs\n",
    "    # to be merged, and you can return the second array as the result\n",
    "    if len(left) == 0:\n",
    "        return right\n",
    "\n",
    "    # If the second array is empty, then nothing needs\n",
    "    # to be merged, and you can return the first array as the result\n",
    "    if len(right) == 0:\n",
    "        return left\n",
    "\n",
    "    result = []\n",
    "    index_left = index_right = 0\n",
    "\n",
    "    # Now go through both arrays until all the elements\n",
    "    # make it into the resultant array\n",
    "    while len(result) < len(left) + len(right):\n",
    "        # The elements need to be sorted to add them to the\n",
    "        # resultant array, so you need to decide whether to get\n",
    "        # the next element from the first or the second array\n",
    "        if left[index_left] <= right[index_right]:\n",
    "            result.append(left[index_left])\n",
    "            index_left += 1\n",
    "        else:\n",
    "            result.append(right[index_right])\n",
    "            index_right += 1\n",
    "\n",
    "        # If you reach the end of either array, then you can\n",
    "        # add the remaining elements from the other array to\n",
    "        # the result and break the loop\n",
    "        if index_right == len(right):\n",
    "            result += left[index_left:]\n",
    "            break\n",
    "\n",
    "        if index_left == len(left):\n",
    "            result += right[index_right:]\n",
    "            break\n",
    "\n",
    "    return result"
   ]
  },
  {
   "cell_type": "code",
   "execution_count": 11,
   "id": "cdc85345-0e9a-4c9a-a5e4-f73f82401446",
   "metadata": {},
   "outputs": [],
   "source": [
    "def merge_sort(array):\n",
    "    # If the input array contains fewer than two elements,\n",
    "    # then return it as the result of the function\n",
    "    if len(array) < 2:\n",
    "        return array\n",
    "\n",
    "    midpoint = len(array) // 2\n",
    "\n",
    "    # Sort the array by recursively splitting the input\n",
    "    # into two equal halves, sorting each half and merging them\n",
    "    # together into the final result\n",
    "    return merge(\n",
    "        left=merge_sort(array[:midpoint]),\n",
    "        right=merge_sort(array[midpoint:]))\n",
    "# Runtime Complexity : O(nlog(2,n)"
   ]
  },
  {
   "cell_type": "code",
   "execution_count": 12,
   "id": "40b614b6-9436-4e04-a1f0-bde16f4fa31d",
   "metadata": {},
   "outputs": [
    {
     "name": "stdout",
     "output_type": "stream",
     "text": [
      "Algorithm: merge_sort. Minimum execution time: 0.7595993999857455\n"
     ]
    }
   ],
   "source": [
    "if __name__ == \"__main__\":\n",
    "    # Generate an array of `ARRAY_LENGTH` items consisting\n",
    "    # of random integer values between 0 and 999\n",
    "    array = [randint(0, 1000) for i in range(ARRAY_LENGTH)]\n",
    "\n",
    "    # Call the function using the name of the sorting algorithm\n",
    "    # and the array you just created\n",
    "    run_sorting_algorithm(algorithm=\"merge_sort\", array=array)"
   ]
  },
  {
   "cell_type": "markdown",
   "id": "a3ed9801-0616-43c3-aacf-916812c3961a",
   "metadata": {},
   "source": [
    "### Quicksort Algorithm"
   ]
  },
  {
   "cell_type": "code",
   "execution_count": 14,
   "id": "ff341c92-1acf-49dc-a4c7-ae320ffc8c48",
   "metadata": {},
   "outputs": [],
   "source": [
    "from random import randint\n",
    "\n",
    "def quicksort(array):\n",
    "    # If the input array contains fewer than two elements,\n",
    "    # then return it as the result of the function\n",
    "    if len(array) < 2:\n",
    "        return array\n",
    "\n",
    "    low, same, high = [], [], []\n",
    "\n",
    "    # Select your `pivot` element randomly\n",
    "    pivot = array[randint(0, len(array) - 1)]\n",
    "\n",
    "    for item in array:\n",
    "        # Elements that are smaller than the `pivot` go to\n",
    "        # the `low` list. Elements that are larger than\n",
    "        # `pivot` go to the `high` list. Elements that are\n",
    "        # equal to `pivot` go to the `same` list.\n",
    "        if item < pivot:\n",
    "            low.append(item)\n",
    "        elif item == pivot:\n",
    "            same.append(item)\n",
    "        elif item > pivot:\n",
    "            high.append(item)\n",
    "\n",
    "    # The final result combines the sorted `low` list\n",
    "    # with the `same` list and the sorted `high` list\n",
    "    return quicksort(low) + same + quicksort(high)\n",
    "# Runtime Complexity : O(n*log(2,n))"
   ]
  },
  {
   "cell_type": "code",
   "execution_count": 15,
   "id": "7a1d7971-21eb-433a-965f-a09df5055462",
   "metadata": {},
   "outputs": [
    {
     "name": "stdout",
     "output_type": "stream",
     "text": [
      "Algorithm: quicksort. Minimum execution time: 0.19107749999966472\n"
     ]
    }
   ],
   "source": [
    "if __name__ == \"__main__\":\n",
    "    # Generate an array of `ARRAY_LENGTH` items consisting\n",
    "    # of random integer values between 0 and 999\n",
    "    array = [randint(0, 1000) for i in range(ARRAY_LENGTH)]\n",
    "\n",
    "    # Call the function using the name of the sorting algorithm\n",
    "    # and the array you just created\n",
    "    run_sorting_algorithm(algorithm=\"quicksort\", array=array)"
   ]
  },
  {
   "cell_type": "markdown",
   "id": "0585cb1a-d6c5-487a-903b-3311445c7508",
   "metadata": {},
   "source": [
    "### Timesort Algorithm"
   ]
  },
  {
   "cell_type": "code",
   "execution_count": 16,
   "id": "ebe2f1c4-dbca-4b45-a955-38f379b09f99",
   "metadata": {},
   "outputs": [],
   "source": [
    "def insertion_sort(array, left=0, right=None):\n",
    "    if right is None:\n",
    "        right = len(array) - 1\n",
    "\n",
    "    # Loop from the element indicated by\n",
    "    # `left` until the element indicated by `right`\n",
    "    for i in range(left + 1, right + 1):\n",
    "        # This is the element we want to position in its\n",
    "        # correct place\n",
    "        key_item = array[i]\n",
    "\n",
    "        # Initialize the variable that will be used to\n",
    "        # find the correct position of the element referenced\n",
    "        # by `key_item`\n",
    "        j = i - 1\n",
    "\n",
    "        # Run through the list of items (the left\n",
    "        # portion of the array) and find the correct position\n",
    "        # of the element referenced by `key_item`. Do this only\n",
    "        # if the `key_item` is smaller than its adjacent values.\n",
    "        while j >= left and array[j] > key_item:\n",
    "            # Shift the value one position to the left\n",
    "            # and reposition `j` to point to the next element\n",
    "            # (from right to left)\n",
    "            array[j + 1] = array[j]\n",
    "            j -= 1\n",
    "\n",
    "        # When you finish shifting the elements, position\n",
    "        # the `key_item` in its correct location\n",
    "        array[j + 1] = key_item\n",
    "\n",
    "    return array"
   ]
  },
  {
   "cell_type": "code",
   "execution_count": 18,
   "id": "acf64ecd-19b4-4b78-a77b-1063ca0f8c6a",
   "metadata": {},
   "outputs": [],
   "source": [
    "def timsort(array):\n",
    "    min_run = 32\n",
    "    n = len(array)\n",
    "\n",
    "    # Start by slicing and sorting small portions of the\n",
    "    # input array. The size of these slices is defined by\n",
    "    # your `min_run` size.\n",
    "    for i in range(0, n, min_run):\n",
    "        insertion_sort(array, i, min((i + min_run - 1), n - 1))\n",
    "\n",
    "    # Now you can start merging the sorted slices.\n",
    "    # Start from `min_run`, doubling the size on\n",
    "    # each iteration until you surpass the length of\n",
    "    # the array.\n",
    "    size = min_run\n",
    "    while size < n:\n",
    "        # Determine the arrays that will\n",
    "        # be merged together\n",
    "        for start in range(0, n, size * 2):\n",
    "            # Compute the `midpoint` (where the first array ends\n",
    "            # and the second starts) and the `endpoint` (where\n",
    "            # the second array ends)\n",
    "            midpoint = start + size - 1\n",
    "            end = min((start + size * 2 - 1), (n-1))\n",
    "\n",
    "            # Merge the two subarrays.\n",
    "            # The `left` array should go from `start` to\n",
    "            # `midpoint + 1`, while the `right` array should\n",
    "            # go from `midpoint + 1` to `end + 1`.\n",
    "            merged_array = merge(\n",
    "                left=array[start:midpoint + 1],\n",
    "                right=array[midpoint + 1:end + 1])\n",
    "\n",
    "            # Finally, put the merged array back into\n",
    "            # your array\n",
    "            array[start:start + len(merged_array)] = merged_array\n",
    "\n",
    "        # Each iteration should double the size of your arrays\n",
    "        size *= 2\n",
    "\n",
    "    return array\n",
    "# Runtime Complexity : O(n*log(2,n))"
   ]
  },
  {
   "cell_type": "code",
   "execution_count": 19,
   "id": "91d9e2c8-830c-403b-a270-8d5ff3f1d934",
   "metadata": {},
   "outputs": [
    {
     "name": "stdout",
     "output_type": "stream",
     "text": [
      "Algorithm: timsort. Minimum execution time: 0.6647057000081986\n"
     ]
    }
   ],
   "source": [
    "if __name__ == \"__main__\":\n",
    "    # Generate an array of `ARRAY_LENGTH` items consisting\n",
    "    # of random integer values between 0 and 999\n",
    "    array = [randint(0, 1000) for i in range(ARRAY_LENGTH)]\n",
    "\n",
    "    # Call the function using the name of the sorting algorithm\n",
    "    # and the array you just created\n",
    "    run_sorting_algorithm(algorithm=\"timsort\", array=array)"
   ]
  },
  {
   "cell_type": "code",
   "execution_count": 20,
   "id": "91f87007-7e61-4033-851c-36453e9c72a4",
   "metadata": {},
   "outputs": [
    {
     "name": "stdout",
     "output_type": "stream",
     "text": [
      "Algorithm: insertion_sort. Minimum execution time: 0.024484500056132674\n",
      "Algorithm: merge_sort. Minimum execution time: 0.19388969999272376\n",
      "Algorithm: quicksort. Minimum execution time: 0.24526739993598312\n",
      "Algorithm: timsort. Minimum execution time: 0.13982049992773682\n"
     ]
    }
   ],
   "source": [
    "if __name__ == \"__main__\":\n",
    "    # Generate a sorted array of ARRAY_LENGTH items\n",
    "    array = [i for i in range(ARRAY_LENGTH)]\n",
    "\n",
    "    # Call each of the functions\n",
    "    run_sorting_algorithm(algorithm=\"insertion_sort\", array=array)\n",
    "    run_sorting_algorithm(algorithm=\"merge_sort\", array=array)\n",
    "    run_sorting_algorithm(algorithm=\"quicksort\", array=array)\n",
    "    run_sorting_algorithm(algorithm=\"timsort\", array=array)"
   ]
  },
  {
   "cell_type": "code",
   "execution_count": null,
   "id": "632872ba-6c79-4c79-9e5e-5566c1867eae",
   "metadata": {},
   "outputs": [],
   "source": []
  }
 ],
 "metadata": {
  "kernelspec": {
   "display_name": "Python 3 (ipykernel)",
   "language": "python",
   "name": "python3"
  },
  "language_info": {
   "codemirror_mode": {
    "name": "ipython",
    "version": 3
   },
   "file_extension": ".py",
   "mimetype": "text/x-python",
   "name": "python",
   "nbconvert_exporter": "python",
   "pygments_lexer": "ipython3",
   "version": "3.11.7"
  }
 },
 "nbformat": 4,
 "nbformat_minor": 5
}
