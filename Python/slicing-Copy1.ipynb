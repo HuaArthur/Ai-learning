{
 "cells": [
  {
   "cell_type": "markdown",
   "id": "bf9b9f2f-faa9-43c3-97e0-e82e695f1f47",
   "metadata": {},
   "source": [
    "# slicing lists and strings"
   ]
  },
  {
   "cell_type": "code",
   "execution_count": 1,
   "id": "d34b0c56-4cd6-4449-befc-7babc43f7471",
   "metadata": {},
   "outputs": [
    {
     "name": "stdout",
     "output_type": "stream",
     "text": [
      "[0, 1, 2, 3, 4, 5, 6, 7, 8, 9]\n"
     ]
    }
   ],
   "source": [
    "my_list = list(range(10))\n",
    "print(my_list)"
   ]
  },
  {
   "cell_type": "code",
   "execution_count": 5,
   "id": "37cb133b-3af3-4b06-a194-d19d58fa5547",
   "metadata": {},
   "outputs": [
    {
     "name": "stdout",
     "output_type": "stream",
     "text": [
      "[9, 8, 7, 6, 5, 4, 3]\n"
     ]
    }
   ],
   "source": [
    "print(my_list[-1:2:-1]) # starting at -1 and go backward"
   ]
  },
  {
   "cell_type": "code",
   "execution_count": 9,
   "id": "45c3ef6b-00c4-423b-b456-c8c3e0b8f340",
   "metadata": {},
   "outputs": [
    {
     "name": "stdout",
     "output_type": "stream",
     "text": [
      "[9, 8, 7, 6, 5, 4, 3, 2, 1, 0]\n"
     ]
    }
   ],
   "source": [
    "print(my_list[::-1]) # reverse the list"
   ]
  },
  {
   "cell_type": "code",
   "execution_count": 12,
   "id": "f4b0cab2-0de5-4ad2-8af6-4592681871b7",
   "metadata": {},
   "outputs": [
    {
     "name": "stdout",
     "output_type": "stream",
     "text": [
      "https://www.youtube.com\n",
      "moc.ebutuoy.www//:sptth\n"
     ]
    }
   ],
   "source": [
    "sample_url = 'https://www.youtube.com'\n",
    "print(sample_url)\n",
    "print(sample_url[::-1])"
   ]
  },
  {
   "cell_type": "code",
   "execution_count": 13,
   "id": "dd83fac5-7792-4d46-8592-7efafbf74b52",
   "metadata": {},
   "outputs": [
    {
     "name": "stdout",
     "output_type": "stream",
     "text": [
      ".com\n"
     ]
    }
   ],
   "source": [
    "print(sample_url[-4:])"
   ]
  },
  {
   "cell_type": "code",
   "execution_count": 18,
   "id": "b7753e09-0262-4bbe-9aba-4e87b259c506",
   "metadata": {},
   "outputs": [
    {
     "name": "stdout",
     "output_type": "stream",
     "text": [
      "www.youtube.com\n"
     ]
    }
   ],
   "source": [
    "print(sample_url[8:])"
   ]
  },
  {
   "cell_type": "code",
   "execution_count": 20,
   "id": "3fd92686-7927-4f50-a30d-1c2f18068c04",
   "metadata": {},
   "outputs": [
    {
     "name": "stdout",
     "output_type": "stream",
     "text": [
      "youtube\n"
     ]
    }
   ],
   "source": [
    "print(sample_url[12:-4])"
   ]
  },
  {
   "cell_type": "code",
   "execution_count": null,
   "id": "2af024b3-391e-4ded-a055-0c676dd720aa",
   "metadata": {},
   "outputs": [],
   "source": []
  }
 ],
 "metadata": {
  "kernelspec": {
   "display_name": "Python 3 (ipykernel)",
   "language": "python",
   "name": "python3"
  },
  "language_info": {
   "codemirror_mode": {
    "name": "ipython",
    "version": 3
   },
   "file_extension": ".py",
   "mimetype": "text/x-python",
   "name": "python",
   "nbconvert_exporter": "python",
   "pygments_lexer": "ipython3",
   "version": "3.11.8"
  }
 },
 "nbformat": 4,
 "nbformat_minor": 5
}
