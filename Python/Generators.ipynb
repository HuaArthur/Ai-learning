{
 "cells": [
  {
   "cell_type": "markdown",
   "id": "07ded5c0-bee6-4b65-a8de-136834cc8b23",
   "metadata": {},
   "source": [
    "# Generators"
   ]
  },
  {
   "cell_type": "markdown",
   "id": "3efc4849-3590-4a65-8d74-e2033c804251",
   "metadata": {},
   "source": [
    "* ### Generator functions"
   ]
  },
  {
   "cell_type": "code",
   "execution_count": 93,
   "id": "ff60d22e-65e5-477e-b165-a663fc32c8bc",
   "metadata": {},
   "outputs": [],
   "source": [
    "def infinite_sequence():\n",
    "    num = 0\n",
    "    while True:\n",
    "        yield num \n",
    "        num += 1"
   ]
  },
  {
   "cell_type": "markdown",
   "id": "6ffd5488-e98d-4390-8674-83c25b1aba50",
   "metadata": {},
   "source": [
    "* ### Generator expressions"
   ]
  },
  {
   "cell_type": "code",
   "execution_count": 94,
   "id": "6537a9d1-9da7-4469-a79b-7600ba62903d",
   "metadata": {},
   "outputs": [
    {
     "name": "stdout",
     "output_type": "stream",
     "text": [
      "[0, 1, 4, 9, 16]\n",
      "<generator object <genexpr> at 0x00000178E427A400>\n"
     ]
    }
   ],
   "source": [
    "nums_squared_lc = [num**2 for num in range(5)]\n",
    "nums_squared_gc = (num**2 for num in range(5))\n",
    "print(nums_squared_lc) # create a list\n",
    "print(nums_squared_gc) # create a generator expression by using parentheses"
   ]
  },
  {
   "cell_type": "markdown",
   "id": "e09400b4-534e-4a73-888f-39ba74af4a46",
   "metadata": {},
   "source": [
    "* ### Python yield statement"
   ]
  },
  {
   "cell_type": "code",
   "execution_count": 95,
   "id": "932e2bd1-ad87-4a43-9775-54de48800241",
   "metadata": {},
   "outputs": [
    {
     "name": "stdout",
     "output_type": "stream",
     "text": [
      "This will print the first string\n",
      "This will print the second string\n"
     ]
    }
   ],
   "source": [
    "def multi_yield():\n",
    "    yield_str = \"This will print the first string\"\n",
    "    yield yield_str\n",
    "    yield_str = \"This will print the second string\"\n",
    "    yield yield_str\n",
    "multi_obj = multi_yield()\n",
    "print(next(multi_obj))\n",
    "print(next(multi_obj))"
   ]
  },
  {
   "cell_type": "code",
   "execution_count": 96,
   "id": "e24afa60-9ee9-46d7-b051-a9b02e93c68e",
   "metadata": {},
   "outputs": [
    {
     "name": "stdout",
     "output_type": "stream",
     "text": [
      "a\n",
      "b\n",
      "c\n"
     ]
    }
   ],
   "source": [
    "letters = ['a', 'b', 'c']\n",
    "it = iter(letters)\n",
    "while True:\n",
    "    try:\n",
    "        letter = next(it)\n",
    "    except StopIteration:\n",
    "        break\n",
    "    print(letter)"
   ]
  },
  {
   "cell_type": "markdown",
   "id": "b6542fc4-14fc-47b8-a6ac-c6a8f7e53654",
   "metadata": {},
   "source": [
    "* ### Advanced generator methods"
   ]
  },
  {
   "cell_type": "markdown",
   "id": "aa79d39c-589b-42a0-94d4-350316ce8f96",
   "metadata": {},
   "source": [
    "    * send()"
   ]
  },
  {
   "cell_type": "markdown",
   "id": "3629c5e0-3922-4893-b8a7-7c20c22de9e4",
   "metadata": {},
   "source": [
    "    * throw()"
   ]
  },
  {
   "cell_type": "markdown",
   "id": "00543bb7-3ebb-4504-82c8-ece6c014c4d9",
   "metadata": {},
   "source": [
    "    * close()"
   ]
  }
 ],
 "metadata": {
  "kernelspec": {
   "display_name": "Python 3 (ipykernel)",
   "language": "python",
   "name": "python3"
  },
  "language_info": {
   "codemirror_mode": {
    "name": "ipython",
    "version": 3
   },
   "file_extension": ".py",
   "mimetype": "text/x-python",
   "name": "python",
   "nbconvert_exporter": "python",
   "pygments_lexer": "ipython3",
   "version": "3.11.8"
  }
 },
 "nbformat": 4,
 "nbformat_minor": 5
}
