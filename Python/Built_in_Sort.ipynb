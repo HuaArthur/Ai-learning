{
 "cells": [
  {
   "cell_type": "markdown",
   "id": "703f01a7-e182-406f-9b38-4ea8caf4c202",
   "metadata": {},
   "source": [
    "# Sorting"
   ]
  },
  {
   "cell_type": "markdown",
   "id": "3835dcb3-7395-4955-bd22-e41f44f1f361",
   "metadata": {},
   "source": [
    "### integers"
   ]
  },
  {
   "cell_type": "code",
   "execution_count": 3,
   "id": "d1d4951a-f06f-4a6d-9199-e0fc48d88190",
   "metadata": {},
   "outputs": [
    {
     "name": "stdout",
     "output_type": "stream",
     "text": [
      "[9, 8, 0, 6, 3, 7, 9, 3, 6, 8, 3]\n",
      "[0, 3, 3, 3, 6, 6, 7, 8, 8, 9, 9]\n"
     ]
    }
   ],
   "source": [
    "l1 = [9,8,0,6,3,7,9,3,6,8,3]\n",
    "s_l1 = sorted(l1)\n",
    "print(l1)\n",
    "print(s_l1)"
   ]
  },
  {
   "cell_type": "code",
   "execution_count": 5,
   "id": "9c9569fa-8a9d-4865-8bc0-ad9afd544138",
   "metadata": {},
   "outputs": [
    {
     "name": "stdout",
     "output_type": "stream",
     "text": [
      "[0, 3, 3, 3, 6, 6, 7, 8, 8, 9, 9]\n"
     ]
    }
   ],
   "source": [
    "l2 = [9,8,0,6,3,7,9,3,6,8,3]\n",
    "l2.sort()\n",
    "print(l2)"
   ]
  },
  {
   "cell_type": "code",
   "execution_count": 8,
   "id": "85433a65-6b12-4d71-8414-1151fb88bf03",
   "metadata": {},
   "outputs": [
    {
     "name": "stdout",
     "output_type": "stream",
     "text": [
      "[9, 9, 8, 8, 7, 6, 6, 3, 3, 3, 0]\n"
     ]
    }
   ],
   "source": [
    "# reverse\n",
    "reverse_l1 = sorted(l1, reverse = True)\n",
    "print(reverse_l1)"
   ]
  },
  {
   "cell_type": "code",
   "execution_count": 9,
   "id": "e0b84fd2-63dc-498a-8b91-76417e260fd4",
   "metadata": {},
   "outputs": [
    {
     "name": "stdout",
     "output_type": "stream",
     "text": [
      "[9, 9, 8, 8, 7, 6, 6, 3, 3, 3, 0]\n"
     ]
    }
   ],
   "source": [
    "l2.sort(reverse = True)\n",
    "print(l2)"
   ]
  },
  {
   "cell_type": "code",
   "execution_count": 10,
   "id": "5ade69cb-9a07-4f9b-822d-f092b5c8ee20",
   "metadata": {},
   "outputs": [
    {
     "name": "stdout",
     "output_type": "stream",
     "text": [
      "[2, 3, 3, 3, 5, 5, 5, 7, 8, 9, 9]\n"
     ]
    }
   ],
   "source": [
    "# tupple\n",
    "tup = (9,3,5,3,5,3,2,7,5,8,9)\n",
    "s_tup = sorted(tup)\n",
    "print(s_tup)"
   ]
  },
  {
   "cell_type": "code",
   "execution_count": 13,
   "id": "5ed11369-c09d-4173-af43-d51215893d26",
   "metadata": {},
   "outputs": [
    {
     "name": "stdout",
     "output_type": "stream",
     "text": [
      "['a', 'b', 'c']\n"
     ]
    }
   ],
   "source": [
    "# dictionary\n",
    "di = {'a':1, 'c':3, 'b':2}\n",
    "s_di = sorted(di) # sort the keys\n",
    "print(s_di)"
   ]
  },
  {
   "cell_type": "code",
   "execution_count": 15,
   "id": "aa668752-477a-44a3-bec8-fd4b6cea3535",
   "metadata": {},
   "outputs": [
    {
     "name": "stdout",
     "output_type": "stream",
     "text": [
      "[1, 2, 3, -4, -5, -6]\n"
     ]
    }
   ],
   "source": [
    "# sort lists based on different criteria\n",
    "li = [-6, -5, -4, 1, 2, 3]\n",
    "s_li = sorted(li, key = abs)\n",
    "print(s_li)"
   ]
  },
  {
   "cell_type": "code",
   "execution_count": 24,
   "id": "2fa4859a-1006-4cdf-ba62-4d632abd77d8",
   "metadata": {},
   "outputs": [
    {
     "name": "stdout",
     "output_type": "stream",
     "text": [
      "[(B,22,$6542), (C,33,$5342), (A,25,$1234)]\n"
     ]
    }
   ],
   "source": [
    "class Employee():\n",
    "    def __init__(self, name, age, salary):\n",
    "        self.name = name\n",
    "        self.age = age\n",
    "        self.salary = salary\n",
    "    def __repr__(self):\n",
    "        return f'({self.name},{self.age},${self.salary})'\n",
    "e1 = Employee('A', 25,1234)\n",
    "e2 = Employee('B', 22,6542)\n",
    "e3 = Employee('C', 33,5342)\n",
    "employees = [e1, e2, e3]\n",
    "def e_sort(emp):\n",
    "    return emp.salary \n",
    "s_employees = sorted(employees, key = e_sort, reverse = True)\n",
    "print(s_employees)"
   ]
  },
  {
   "cell_type": "code",
   "execution_count": null,
   "id": "2d20aba6-9c00-4c6f-94fa-5f7b55c553b1",
   "metadata": {},
   "outputs": [],
   "source": []
  }
 ],
 "metadata": {
  "kernelspec": {
   "display_name": "Python 3 (ipykernel)",
   "language": "python",
   "name": "python3"
  },
  "language_info": {
   "codemirror_mode": {
    "name": "ipython",
    "version": 3
   },
   "file_extension": ".py",
   "mimetype": "text/x-python",
   "name": "python",
   "nbconvert_exporter": "python",
   "pygments_lexer": "ipython3",
   "version": "3.11.8"
  }
 },
 "nbformat": 4,
 "nbformat_minor": 5
}
