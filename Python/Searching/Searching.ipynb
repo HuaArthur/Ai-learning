{
 "cells": [
  {
   "cell_type": "markdown",
   "id": "6d2227fb-707c-469d-8adc-dc724f044199",
   "metadata": {},
   "source": [
    "### Built-in Membership Operators\n"
   ]
  },
  {
   "cell_type": "code",
   "execution_count": 4,
   "id": "c8e00c8b-b474-489b-8a77-2f93b3ddbfa8",
   "metadata": {},
   "outputs": [
    {
     "data": {
      "text/plain": [
       "True"
      ]
     },
     "execution_count": 4,
     "metadata": {},
     "output_type": "execute_result"
    }
   ],
   "source": [
    "list = ['orange', 'apple', 'grape']\n",
    "'apple' in list\n",
    "# using linear search under the hood"
   ]
  },
  {
   "cell_type": "markdown",
   "id": "7470bd8e-07d7-4d65-a7d7-f75717f74e12",
   "metadata": {},
   "source": [
    "### Linear Search"
   ]
  },
  {
   "cell_type": "code",
   "execution_count": 14,
   "id": "346d9f39-392b-400b-a4bf-742460f5eb2d",
   "metadata": {},
   "outputs": [],
   "source": [
    "def LinearSearch(numbers, element):\n",
    "    for i in range(len(numbers)):\n",
    "        if numbers[i] == element:\n",
    "            return i\n",
    "    return -1\n",
    "# Runtime Complexity : O(n)"
   ]
  },
  {
   "cell_type": "code",
   "execution_count": 15,
   "id": "c947e365-8aad-4a96-8f96-c32cb867f26f",
   "metadata": {},
   "outputs": [
    {
     "name": "stdout",
     "output_type": "stream",
     "text": [
      "1\n"
     ]
    }
   ],
   "source": [
    "numbers = [1,2,3,4,5,2,1]\n",
    "index = LinearSearch(numbers, 2)\n",
    "print(index)"
   ]
  },
  {
   "cell_type": "markdown",
   "id": "519ae951-68d2-4e0e-950a-f3d4161d0b93",
   "metadata": {},
   "source": [
    "### Bianry Search ***"
   ]
  },
  {
   "cell_type": "markdown",
   "id": "eb07aa00-12ac-4267-8bf5-dbf3420b528d",
   "metadata": {},
   "source": [
    "* iterative"
   ]
  },
  {
   "cell_type": "code",
   "execution_count": 19,
   "id": "d95af28d-ea02-4c1c-8d4c-d54e054c927d",
   "metadata": {},
   "outputs": [],
   "source": [
    "\n",
    "def BinarySearch_iterative(numbers, val):\n",
    "    first = 0\n",
    "    last = len(numbers)-1\n",
    "    index = -1\n",
    "    while (first <= last) and (index == -1):\n",
    "        mid = (first+last)//2\n",
    "        if numbers[mid] == val:\n",
    "            index = mid\n",
    "        else:\n",
    "            if val<numbers[mid]:\n",
    "                last = mid -1\n",
    "            else:\n",
    "                first = mid +1\n",
    "    return index\n",
    "# Runtime Complexity : O(log(2,n))"
   ]
  },
  {
   "cell_type": "code",
   "execution_count": 20,
   "id": "92fe7b8f-b793-4c06-9724-ee23320a1dd6",
   "metadata": {},
   "outputs": [
    {
     "name": "stdout",
     "output_type": "stream",
     "text": [
      "2\n"
     ]
    }
   ],
   "source": [
    "numbers = [10,20,30,40,50]\n",
    "index = BinarySearch_iterative(numbers, 30)\n",
    "print(index)"
   ]
  },
  {
   "cell_type": "markdown",
   "id": "5b634eeb-0686-44c1-8fec-62ee7ce52dcb",
   "metadata": {},
   "source": [
    "### Jump Search"
   ]
  },
  {
   "cell_type": "code",
   "execution_count": 55,
   "id": "a8313897-96a0-47bc-98cf-50cfdeb2662c",
   "metadata": {},
   "outputs": [],
   "source": [
    "import math\n",
    "\n",
    "def JumpSearch (numbers, val):\n",
    "    length = len(numbers)\n",
    "    jump = int(math.sqrt(length))\n",
    "    left, right = 0, 0\n",
    "    while left < length and numbers[left] <= val:\n",
    "        right = min(length - 1, left + jump)\n",
    "        if numbers[left] <= val and numbers[right] >= val:\n",
    "            break\n",
    "        left += jump;\n",
    "    if left >= length or numbers[left] > val:\n",
    "        return -1\n",
    "    right = min(length - 1, right)\n",
    "    i = left\n",
    "    while i <= right and numbers[i] <= val:\n",
    "        if numbers[i] == val:\n",
    "            return i\n",
    "        i += 1\n",
    "    return -1\n",
    "# Runtime Complexity : O(sprt(n))"
   ]
  },
  {
   "cell_type": "code",
   "execution_count": 56,
   "id": "ec6fd6d4-47b4-41f9-b01a-81cf1a3401ca",
   "metadata": {},
   "outputs": [
    {
     "name": "stdout",
     "output_type": "stream",
     "text": [
      "4\n"
     ]
    }
   ],
   "source": [
    "numbers = [1,2,3,4,5,6,7,8,9]\n",
    "index = JumpSearch(numbers, 5)\n",
    "print(index)"
   ]
  },
  {
   "cell_type": "markdown",
   "id": "7c6df4bf-1065-4ffe-aae8-717e554ce753",
   "metadata": {},
   "source": [
    "### Fibonacci Search"
   ]
  },
  {
   "cell_type": "code",
   "execution_count": 57,
   "id": "89464d96-7062-44a7-8bf7-693202e64eb8",
   "metadata": {},
   "outputs": [],
   "source": [
    "def FibonacciSearch(numbers, val):\n",
    "    fibM_minus_2 = 0\n",
    "    fibM_minus_1 = 1\n",
    "    fibM = fibM_minus_1 + fibM_minus_2\n",
    "    while (fibM < len(numbers)):\n",
    "        fibM_minus_2 = fibM_minus_1\n",
    "        fibM_minus_1 = fibM\n",
    "        fibM = fibM_minus_1 + fibM_minus_2\n",
    "    index = -1;\n",
    "    while (fibM > 1):\n",
    "        i = min(index + fibM_minus_2, (len(numbers)-1))\n",
    "        if (numbers[i] < val):\n",
    "            fibM = fibM_minus_1\n",
    "            fibM_minus_1 = fibM_minus_2\n",
    "            fibM_minus_2 = fibM - fibM_minus_1\n",
    "            index = i\n",
    "        elif (numbers[i] > val):\n",
    "            fibM = fibM_minus_2\n",
    "            fibM_minus_1 = fibM_minus_1 - fibM_minus_2\n",
    "            fibM_minus_2 = fibM - fibM_minus_1\n",
    "        else :\n",
    "            return i\n",
    "    if(fibM_minus_1 and index < (len(numbers)-1) and numbers[index+1] == val):\n",
    "        return index+1;\n",
    "    return -1"
   ]
  },
  {
   "cell_type": "code",
   "execution_count": 58,
   "id": "066fe02d-1144-4952-965f-69f8f680b4fe",
   "metadata": {},
   "outputs": [
    {
     "name": "stdout",
     "output_type": "stream",
     "text": [
      "5\n"
     ]
    }
   ],
   "source": [
    "numbers = [1,2,3,4,5,6,7,8,9,10,11]\n",
    "index = FibonacciSearch(numbers, 6)\n",
    "print(index)"
   ]
  },
  {
   "cell_type": "markdown",
   "id": "00edc49e-9094-45c3-9611-952fb94c4250",
   "metadata": {},
   "source": [
    "### Exponential Search"
   ]
  },
  {
   "cell_type": "code",
   "execution_count": 63,
   "id": "e3569c21-b95e-4230-a06b-4837f6d88c9b",
   "metadata": {},
   "outputs": [],
   "source": [
    "def ExponentialSearch(numbers, val):\n",
    "    if numbers[0] == val:\n",
    "        return 0\n",
    "    index = 1\n",
    "    while index < len(numbers) and numbers[index] <= val:\n",
    "        index = index * 2\n",
    "    return BinarySearch( numbers[:min(index, len(numbers))], val)\n",
    "# Runtime Complexity : O(log(2,n))"
   ]
  },
  {
   "cell_type": "code",
   "execution_count": 64,
   "id": "06eade66-f767-4700-8352-10954979b08b",
   "metadata": {},
   "outputs": [
    {
     "name": "stdout",
     "output_type": "stream",
     "text": [
      "2\n"
     ]
    }
   ],
   "source": [
    "numbers = [1,2,3,4,5,6,7,8]\n",
    "index = ExponentialSearch(numbers, 3)\n",
    "print(index)"
   ]
  },
  {
   "cell_type": "markdown",
   "id": "eae8f58e-b7f4-4133-857e-3fcf693d13b3",
   "metadata": {},
   "source": [
    "### Interpolation Search"
   ]
  },
  {
   "cell_type": "code",
   "execution_count": 65,
   "id": "f301fb29-1659-4580-906b-a13224e9c4bb",
   "metadata": {},
   "outputs": [],
   "source": [
    "def InterpolationSearch(numbers, val):\n",
    "    low = 0\n",
    "    high = (len(numbers) - 1)\n",
    "    while low <= high and val >= numbers[low] and val <= numbers[high]:\n",
    "        index = low + int(((float(high - low) / ( numbers[high] - numbers[low])) * ( val - numbers[low])))\n",
    "        if numbers[index] == val:\n",
    "            return index\n",
    "        if numbers[index] < val:\n",
    "            low = index + 1;\n",
    "        else:\n",
    "            high = index - 1;\n",
    "    return -1"
   ]
  },
  {
   "cell_type": "code",
   "execution_count": 66,
   "id": "0e28bc6a-0760-4773-9af1-0d3eb8d17d6f",
   "metadata": {},
   "outputs": [
    {
     "name": "stdout",
     "output_type": "stream",
     "text": [
      "5\n"
     ]
    }
   ],
   "source": [
    "numbers = [1,2,3,4,5,6,7,8]\n",
    "index = InterpolationSearch(numbers, 6)\n",
    "print(index)"
   ]
  },
  {
   "cell_type": "code",
   "execution_count": null,
   "id": "e392a6ef-86e6-4331-9384-541d5f9ad36c",
   "metadata": {},
   "outputs": [],
   "source": []
  }
 ],
 "metadata": {
  "kernelspec": {
   "display_name": "Python 3 (ipykernel)",
   "language": "python",
   "name": "python3"
  },
  "language_info": {
   "codemirror_mode": {
    "name": "ipython",
    "version": 3
   },
   "file_extension": ".py",
   "mimetype": "text/x-python",
   "name": "python",
   "nbconvert_exporter": "python",
   "pygments_lexer": "ipython3",
   "version": "3.11.7"
  }
 },
 "nbformat": 4,
 "nbformat_minor": 5
}
